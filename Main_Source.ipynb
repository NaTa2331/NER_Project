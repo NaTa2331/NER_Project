{
 "cells": [
  {
   "cell_type": "markdown",
   "metadata": {
    "id": "PxEi40lwsuRK"
   },
   "source": [
    "# Content"
   ]
  },
  {
   "cell_type": "markdown",
   "metadata": {
    "id": "vwQaLZecXuPz"
   },
   "source": [
    "- Crawl dữ liệu thô từ web, vào từng file .txt\n",
    "\n",
    "- Đọc và xử lý dữ liệu thành bộ dữ liệu huấn luyện\n",
    "\n",
    "- Sử dụng VnCoreNLP để gắn nhãn cho dữ liệu\n",
    "\n",
    "- Dữ liệu được lưu dưới dạng CoNLL (Token, label)\n",
    "\n",
    "- Từ file dữ liệu dã tạo, huấn luyện bằng mô hình spaCy (NER)"
   ]
  },
  {
   "cell_type": "code",
   "execution_count": 27,
   "metadata": {
    "colab": {
     "base_uri": "https://localhost:8080/"
    },
    "collapsed": true,
    "id": "AE1LgdFd-vKL",
    "outputId": "b66942b2-a374-4ea3-9a19-dfddf2435092"
   },
   "outputs": [
    {
     "name": "stdout",
     "output_type": "stream",
     "text": [
      "Collecting vncorenlp\n",
      "  Downloading vncorenlp-1.0.3.tar.gz (2.6 MB)\n",
      "\u001b[?25l     \u001b[90m━━━━━━━━━━━━━━━━━━━━━━━━━━━━━━━━━━━━━━━━\u001b[0m \u001b[32m0.0/2.6 MB\u001b[0m \u001b[31m?\u001b[0m eta \u001b[36m-:--:--\u001b[0m\r\u001b[2K     \u001b[91m━━━━━━━\u001b[0m\u001b[91m╸\u001b[0m\u001b[90m━━━━━━━━━━━━━━━━━━━━━━━━━━━━━━━━\u001b[0m \u001b[32m0.5/2.6 MB\u001b[0m \u001b[31m15.2 MB/s\u001b[0m eta \u001b[36m0:00:01\u001b[0m\r\u001b[2K     \u001b[91m━━━━━━━━━━━━━━━━━━━━━━━━━━━━━━━━━━━━━━━\u001b[0m\u001b[91m╸\u001b[0m \u001b[32m2.6/2.6 MB\u001b[0m \u001b[31m39.4 MB/s\u001b[0m eta \u001b[36m0:00:01\u001b[0m\r\u001b[2K     \u001b[90m━━━━━━━━━━━━━━━━━━━━━━━━━━━━━━━━━━━━━━━━\u001b[0m \u001b[32m2.6/2.6 MB\u001b[0m \u001b[31m30.9 MB/s\u001b[0m eta \u001b[36m0:00:00\u001b[0m\n",
      "\u001b[?25h  Preparing metadata (setup.py) ... \u001b[?25l\u001b[?25hdone\n",
      "Requirement already satisfied: requests in /usr/local/lib/python3.10/dist-packages (from vncorenlp) (2.32.3)\n",
      "Requirement already satisfied: charset-normalizer<4,>=2 in /usr/local/lib/python3.10/dist-packages (from requests->vncorenlp) (3.4.0)\n",
      "Requirement already satisfied: idna<4,>=2.5 in /usr/local/lib/python3.10/dist-packages (from requests->vncorenlp) (3.10)\n",
      "Requirement already satisfied: urllib3<3,>=1.21.1 in /usr/local/lib/python3.10/dist-packages (from requests->vncorenlp) (2.2.3)\n",
      "Requirement already satisfied: certifi>=2017.4.17 in /usr/local/lib/python3.10/dist-packages (from requests->vncorenlp) (2024.8.30)\n",
      "Building wheels for collected packages: vncorenlp\n",
      "  Building wheel for vncorenlp (setup.py) ... \u001b[?25l\u001b[?25hdone\n",
      "  Created wheel for vncorenlp: filename=vncorenlp-1.0.3-py3-none-any.whl size=2645932 sha256=5db0237ed40d5ce23c623a1fba965a2723d63689b4f2da8f9b0a4faf900e744b\n",
      "  Stored in directory: /root/.cache/pip/wheels/5d/d9/b3/41f6c6b1ab758561fd4aab55dc0480b9d7a131c6aaa573a3fa\n",
      "Successfully built vncorenlp\n",
      "Installing collected packages: vncorenlp\n",
      "Successfully installed vncorenlp-1.0.3\n"
     ]
    }
   ],
   "source": [
    "!pip install vncorenlp\n"
   ]
  },
  {
   "cell_type": "code",
   "execution_count": 28,
   "metadata": {
    "colab": {
     "base_uri": "https://localhost:8080/"
    },
    "collapsed": true,
    "id": "b9UL_xQJ_Pj_",
    "outputId": "c5e96594-c579-4ca1-846e-af97ed9160d1"
   },
   "outputs": [
    {
     "name": "stdout",
     "output_type": "stream",
     "text": [
      "Cloning into 'VnCoreNLP'...\n",
      "remote: Enumerating objects: 259, done.\u001b[K\n",
      "remote: Counting objects: 100% (47/47), done.\u001b[K\n",
      "remote: Compressing objects: 100% (32/32), done.\u001b[K\n",
      "remote: Total 259 (delta 17), reused 33 (delta 11), pack-reused 212 (from 1)\u001b[K\n",
      "Receiving objects: 100% (259/259), 237.79 MiB | 19.00 MiB/s, done.\n",
      "Resolving deltas: 100% (93/93), done.\n",
      "Updating files: 100% (34/34), done.\n"
     ]
    }
   ],
   "source": [
    "!git clone https://github.com/vncorenlp/VnCoreNLP.git\n"
   ]
  },
  {
   "cell_type": "code",
   "execution_count": 29,
   "metadata": {
    "colab": {
     "base_uri": "https://localhost:8080/"
    },
    "collapsed": true,
    "id": "pyIsayIz4fCH",
    "outputId": "92181371-1584-4583-96e8-283f8bc1bcc2"
   },
   "outputs": [
    {
     "name": "stdout",
     "output_type": "stream",
     "text": [
      "Requirement already satisfied: pyvi in /usr/local/lib/python3.10/dist-packages (0.1.1)\n",
      "Requirement already satisfied: scikit-learn in /usr/local/lib/python3.10/dist-packages (from pyvi) (1.5.2)\n",
      "Requirement already satisfied: sklearn-crfsuite in /usr/local/lib/python3.10/dist-packages (from pyvi) (0.5.0)\n",
      "Requirement already satisfied: numpy>=1.19.5 in /usr/local/lib/python3.10/dist-packages (from scikit-learn->pyvi) (1.26.4)\n",
      "Requirement already satisfied: scipy>=1.6.0 in /usr/local/lib/python3.10/dist-packages (from scikit-learn->pyvi) (1.13.1)\n",
      "Requirement already satisfied: joblib>=1.2.0 in /usr/local/lib/python3.10/dist-packages (from scikit-learn->pyvi) (1.4.2)\n",
      "Requirement already satisfied: threadpoolctl>=3.1.0 in /usr/local/lib/python3.10/dist-packages (from scikit-learn->pyvi) (3.5.0)\n",
      "Requirement already satisfied: python-crfsuite>=0.9.7 in /usr/local/lib/python3.10/dist-packages (from sklearn-crfsuite->pyvi) (0.9.11)\n",
      "Requirement already satisfied: tabulate>=0.4.2 in /usr/local/lib/python3.10/dist-packages (from sklearn-crfsuite->pyvi) (0.9.0)\n",
      "Requirement already satisfied: tqdm>=2.0 in /usr/local/lib/python3.10/dist-packages (from sklearn-crfsuite->pyvi) (4.66.6)\n"
     ]
    }
   ],
   "source": [
    "!pip install pyvi"
   ]
  },
  {
   "cell_type": "markdown",
   "metadata": {
    "id": "p4gQkhaowQKw"
   },
   "source": [
    "## Load VnCoreNLP Model"
   ]
  },
  {
   "cell_type": "code",
   "execution_count": 30,
   "metadata": {
    "id": "wGsy5H7BOd2i"
   },
   "outputs": [],
   "source": [
    "from vncorenlp import VnCoreNLP\n",
    "import os\n",
    "\n",
    "# Use VnCoreNLP to make label for raw data\n",
    "vncorenlp = VnCoreNLP(\"VnCoreNLP/VnCoreNLP-1.1.1.jar\")"
   ]
  },
  {
   "cell_type": "markdown",
   "metadata": {
    "id": "zGTRw7EswVEd"
   },
   "source": [
    "## Read data from text file"
   ]
  },
  {
   "cell_type": "code",
   "execution_count": 31,
   "metadata": {
    "colab": {
     "base_uri": "https://localhost:8080/"
    },
    "id": "z4JjJSPk3mGh",
    "outputId": "9b3a8b58-20eb-4d90-91d3-33a0afa0bbf4"
   },
   "outputs": [
    {
     "name": "stdout",
     "output_type": "stream",
     "text": [
      "Dữ liệu đã được lưu vào training_data.conll\n"
     ]
    }
   ],
   "source": [
    "# Data is saved in many file txt\n",
    "def read_txt_files_in_folder(folder_path):\n",
    "    file_contents = []\n",
    "    for filename in os.listdir(folder_path):\n",
    "        if filename.endswith('.txt'):\n",
    "            file_path = os.path.join(folder_path, filename)\n",
    "            with open(file_path, 'r', encoding='utf-8') as file:\n",
    "                file_contents.append(file.read())\n",
    "    return file_contents\n",
    "\n",
    "folder_path = \"vnexpress\"\n",
    "texts = read_txt_files_in_folder(folder_path)\n",
    "\n",
    "# use (NER) function in VnCoreNLP\n",
    "def extract_entities_from_text(text):\n",
    "    try:\n",
    "        entity_result = vncorenlp.ner(text)\n",
    "        return entity_result\n",
    "    except KeyError as e:\n",
    "        print(f\"KeyError: {e}\")\n",
    "        return None\n",
    "\n",
    "# use extract_entities_from_text function for data\n",
    "annotated_texts = [extract_entities_from_text(text) for text in texts]\n",
    "\n",
    "# format to CoNLL type\n",
    "def format_to_conll(annotated_text):\n",
    "    conll_data = []\n",
    "    for sentence in annotated_text:\n",
    "        for word, label in sentence:\n",
    "            token = word.replace(\"_\", \" \")  # Gộp các từ tách bởi dấu _\n",
    "            conll_data.append(f\"{token}\\t{label}\")\n",
    "        conll_data.append(\"\")\n",
    "    return \"\\n\".join(conll_data)\n",
    "\n",
    "conll_datasets = [format_to_conll(annotated) for annotated in annotated_texts if annotated is not None]\n",
    "\n",
    "# Save dataset\n",
    "with open('training_data.conll', 'w', encoding='utf-8') as file:\n",
    "    file.write(\"\\n\\n\".join(conll_datasets))\n",
    "\n",
    "print(\"Dữ liệu đã được lưu vào training_data.conll\")"
   ]
  },
  {
   "cell_type": "markdown",
   "metadata": {
    "id": "47yMpB3bwnXj"
   },
   "source": [
    "### Count label in data"
   ]
  },
  {
   "cell_type": "code",
   "execution_count": 32,
   "metadata": {
    "colab": {
     "base_uri": "https://localhost:8080/"
    },
    "id": "xS8wiejvAZHV",
    "outputId": "06155851-c178-4aba-f9af-7143576aa2f7"
   },
   "outputs": [
    {
     "name": "stdout",
     "output_type": "stream",
     "text": [
      "Label distribution: {'O': 267847, 'B-PER': 3348, 'I-PER': 170, 'B-LOC': 7196, 'I-LOC': 3841, 'B-MISC': 138, 'I-MISC': 141, 'B-ORG': 2281, 'I-ORG': 3982}\n"
     ]
    }
   ],
   "source": [
    "label_count = {\"O\": 0, \"B-PER\": 0, \"I-PER\": 0, \"B-LOC\": 0, \"I-LOC\": 0, \"B-MISC\": 0, \"I-MISC\": 0, \"B-ORG\": 0, \"I-ORG\": 0}\n",
    "\n",
    "for annotated in annotated_texts:\n",
    "    if annotated is None:  # Bỏ qua nếu giá trị là None\n",
    "        continue\n",
    "    for sentence in annotated:\n",
    "        for _, label in sentence:\n",
    "            label_count[label] += 1\n",
    "\n",
    "print(\"Label distribution:\", label_count)\n"
   ]
  },
  {
   "cell_type": "markdown",
   "metadata": {
    "id": "8czM_w2cxWhy"
   },
   "source": [
    "Old dataset (This data set is noisy, training the model does not give good results)"
   ]
  },
  {
   "cell_type": "code",
   "execution_count": null,
   "metadata": {
    "colab": {
     "base_uri": "https://localhost:8080/"
    },
    "id": "FpLNBrJ4uwCH",
    "outputId": "0657c4a0-ea1a-4f62-f10e-7bc671e43e6b"
   },
   "outputs": [
    {
     "name": "stdout",
     "output_type": "stream",
     "text": [
      "Label distribution: {'O': 129945, 'B-PER': 658, 'I-PER': 30, 'B-LOC': 989, 'I-LOC': 280, 'B-MISC': 171, 'I-MISC': 174, 'B-ORG': 229, 'I-ORG': 330}\n"
     ]
    }
   ],
   "source": [
    "# label_count = {\"O\": 0, \"B-PER\": 0, \"I-PER\": 0, \"B-LOC\": 0, \"I-LOC\": 0, \"B-MISC\": 0, \"I-MISC\": 0, \"B-ORG\": 0, \"I-ORG\": 0}\n",
    "\n",
    "# for annotated in annotated_texts:\n",
    "#     if annotated is None:  # Bỏ qua nếu giá trị là None\n",
    "#         continue\n",
    "#     for sentence in annotated:\n",
    "#         for _, label in sentence:\n",
    "#             label_count[label] += 1\n",
    "\n",
    "# print(\"Label distribution:\", label_count)\n"
   ]
  },
  {
   "cell_type": "markdown",
   "metadata": {
    "id": "7N6oOgiGwrsA"
   },
   "source": [
    "## Train with spacy (Run from here if having dataset)"
   ]
  },
  {
   "cell_type": "code",
   "execution_count": 1,
   "metadata": {
    "id": "PsV0rdWlPUzr"
   },
   "outputs": [],
   "source": [
    "import spacy\n",
    "from spacy.training import Example\n",
    "\n",
    "def conll_to_spacy_format(conll_file):\n",
    "    texts = []\n",
    "    annotations = []\n",
    "\n",
    "    with open(conll_file, 'r', encoding='utf-8') as file:\n",
    "        text = []\n",
    "        entities = []\n",
    "        start_idx = None\n",
    "        for line in file:\n",
    "            line = line.strip()\n",
    "            if not line:  # space line\n",
    "                if text:\n",
    "                    # annotations for current sentence\n",
    "                    annotations.append({\"entities\": entities})\n",
    "                    texts.append(\" \".join(text))\n",
    "                text = []\n",
    "                entities = []\n",
    "                continue\n",
    "            word, label = line.split('\\t')\n",
    "            text.append(word)\n",
    "            if label != 'O':  # Remove O label\n",
    "                start_idx = len(\" \".join(text)) - len(word)\n",
    "                entities.append((start_idx, start_idx + len(word), label))\n",
    "\n",
    "    return list(zip(texts, annotations))\n",
    "\n",
    "\n",
    "# data for train with correct format for spacy\n",
    "train_data = conll_to_spacy_format(\"training_data.conll\")\n"
   ]
  },
  {
   "cell_type": "code",
   "execution_count": 2,
   "metadata": {},
   "outputs": [
    {
     "name": "stdout",
     "output_type": "stream",
     "text": [
      "Example 1:\n",
      "Text: Đường sắt Bắc Nam chia cắt vì sạt lở Mưa lớn khiến tuyến đường sắt Bắc Nam qua tỉnh Quảng Trị bị trôi đá , xói nền , nhiều đoàn tàu phải dừng tại ga Đông Hà và Đồng Hới để chờ gia cố đường.Theo Tổng công ty Đường sắt Việt Nam , bão Trà Mi gây mưa lớn , làm ngập tuyến đường sắt qua Quảng Trị .\n",
      "Annotations: {'entities': [(10, 17, 'B-PER'), (79, 83, 'B-LOC'), (84, 93, 'I-LOC'), (146, 148, 'B-LOC'), (149, 156, 'I-LOC'), (160, 168, 'B-LOC'), (194, 206, 'B-ORG'), (207, 216, 'I-ORG'), (217, 225, 'I-ORG'), (282, 291, 'B-LOC')]}\n",
      "--------------------------------------------------\n",
      "Example 2:\n",
      "Text: Đến sáng nay , nước rút làm trôi đá , xói nền , dịch chuyển ray nhiều đoạn ở huyện Vĩnh Linh.Đoạn đường sắt bị xói lở , trơ ray .\n",
      "Annotations: {'entities': [(77, 82, 'B-LOC'), (83, 87, 'I-LOC')]}\n",
      "--------------------------------------------------\n",
      "Example 3:\n",
      "Text: Ảnh : VNRNgành đường sắt đã phong toả đoạn Sa Lung - Tiên An , chuyển tải hành khách giữa ga Đông Hà ( Quảng Trị ) và ga Đồng Hới ( Quảng Bình ) .\n",
      "Annotations: {'entities': [(43, 50, 'B-LOC'), (53, 60, 'B-LOC'), (90, 92, 'B-LOC'), (93, 100, 'I-LOC'), (103, 112, 'B-LOC'), (118, 120, 'B-LOC'), (121, 129, 'I-LOC'), (132, 142, 'B-LOC')]}\n",
      "--------------------------------------------------\n",
      "Example 4:\n",
      "Text: Đến 10h hôm nay , các công ty đã chuyển tải 2.430 hành khách của 10 chuyến tàu.Ngoài ra , trên tuyến có 9 đoàn tàu hàng phải nằm chờ đường tại các ga .\n",
      "Annotations: {'entities': []}\n",
      "--------------------------------------------------\n",
      "Example 5:\n",
      "Text: Ga Hà Nội ngừng chạy tàu SE3 khởi hành từ Hà Nội đến Đồng Hới trong ngày 28/10 .\n",
      "Annotations: {'entities': [(3, 9, 'B-LOC'), (42, 48, 'B-LOC'), (53, 61, 'B-LOC')]}\n",
      "--------------------------------------------------\n"
     ]
    }
   ],
   "source": [
    "# In 5 dòng đầu tiên của train_data\n",
    "for i, (text, annotation) in enumerate(train_data[:5]):  # Chỉ lấy 5 phần tử đầu tiên\n",
    "    print(f\"Example {i + 1}:\")\n",
    "    print(f\"Text: {text}\")\n",
    "    print(f\"Annotations: {annotation}\")\n",
    "    print(\"-\" * 50)\n"
   ]
  },
  {
   "cell_type": "code",
   "execution_count": 5,
   "metadata": {
    "colab": {
     "base_uri": "https://localhost:8080/"
    },
    "collapsed": true,
    "id": "MksuXb_vFaqv",
    "outputId": "474c7a52-56fa-483f-f17b-6962024077c0"
   },
   "outputs": [
    {
     "name": "stdout",
     "output_type": "stream",
     "text": [
      "Collecting pyvi\n",
      "  Downloading pyvi-0.1.1-py2.py3-none-any.whl.metadata (2.5 kB)\n",
      "Requirement already satisfied: scikit-learn in /usr/local/lib/python3.10/dist-packages (from pyvi) (1.5.2)\n",
      "Collecting sklearn-crfsuite (from pyvi)\n",
      "  Downloading sklearn_crfsuite-0.5.0-py2.py3-none-any.whl.metadata (4.9 kB)\n",
      "Requirement already satisfied: numpy>=1.19.5 in /usr/local/lib/python3.10/dist-packages (from scikit-learn->pyvi) (1.26.4)\n",
      "Requirement already satisfied: scipy>=1.6.0 in /usr/local/lib/python3.10/dist-packages (from scikit-learn->pyvi) (1.13.1)\n",
      "Requirement already satisfied: joblib>=1.2.0 in /usr/local/lib/python3.10/dist-packages (from scikit-learn->pyvi) (1.4.2)\n",
      "Requirement already satisfied: threadpoolctl>=3.1.0 in /usr/local/lib/python3.10/dist-packages (from scikit-learn->pyvi) (3.5.0)\n",
      "Collecting python-crfsuite>=0.9.7 (from sklearn-crfsuite->pyvi)\n",
      "  Downloading python_crfsuite-0.9.11-cp310-cp310-manylinux_2_17_x86_64.manylinux2014_x86_64.whl.metadata (4.3 kB)\n",
      "Requirement already satisfied: tabulate>=0.4.2 in /usr/local/lib/python3.10/dist-packages (from sklearn-crfsuite->pyvi) (0.9.0)\n",
      "Requirement already satisfied: tqdm>=2.0 in /usr/local/lib/python3.10/dist-packages (from sklearn-crfsuite->pyvi) (4.66.6)\n",
      "Downloading pyvi-0.1.1-py2.py3-none-any.whl (8.5 MB)\n",
      "\u001b[2K   \u001b[90m━━━━━━━━━━━━━━━━━━━━━━━━━━━━━━━━━━━━━━━━\u001b[0m \u001b[32m8.5/8.5 MB\u001b[0m \u001b[31m59.2 MB/s\u001b[0m eta \u001b[36m0:00:00\u001b[0m\n",
      "\u001b[?25hDownloading sklearn_crfsuite-0.5.0-py2.py3-none-any.whl (10 kB)\n",
      "Downloading python_crfsuite-0.9.11-cp310-cp310-manylinux_2_17_x86_64.manylinux2014_x86_64.whl (1.2 MB)\n",
      "\u001b[2K   \u001b[90m━━━━━━━━━━━━━━━━━━━━━━━━━━━━━━━━━━━━━━━━\u001b[0m \u001b[32m1.2/1.2 MB\u001b[0m \u001b[31m53.0 MB/s\u001b[0m eta \u001b[36m0:00:00\u001b[0m\n",
      "\u001b[?25hInstalling collected packages: python-crfsuite, sklearn-crfsuite, pyvi\n",
      "Successfully installed python-crfsuite-0.9.11 pyvi-0.1.1 sklearn-crfsuite-0.5.0\n"
     ]
    }
   ],
   "source": [
    "# !pip install pyvi"
   ]
  },
  {
   "cell_type": "code",
   "execution_count": 4,
   "metadata": {
    "colab": {
     "base_uri": "https://localhost:8080/"
    },
    "id": "FHVGLGxsPdtc",
    "outputId": "6913cc1e-4e0c-425c-c1fe-41dfe4c16865"
   },
   "outputs": [
    {
     "name": "stdout",
     "output_type": "stream",
     "text": [
      "['ner']\n"
     ]
    }
   ],
   "source": [
    "import spacy\n",
    "from spacy.training import Example\n",
    "\n",
    "# model\n",
    "nlp = spacy.blank(\"vi\") #need install pyvi\n",
    "\n",
    "# pipeline is NER for this model\n",
    "if \"ner\" not in nlp.pipe_names:\n",
    "    ner = nlp.create_pipe(\"ner\")\n",
    "    nlp.add_pipe(\"ner\", last=True)\n",
    "\n",
    "# add label NER\n",
    "for _, annotations in train_data:\n",
    "    for ent in annotations[\"entities\"]:\n",
    "        # Thêm nhãn vào pipeline NER\n",
    "        nlp.get_pipe(\"ner\").add_label(ent[2])\n",
    "\n",
    "# check the pipe line\n",
    "print(nlp.pipe_names)\n"
   ]
  },
  {
   "cell_type": "code",
   "execution_count": 8,
   "metadata": {
    "id": "Y-7ql_O7P76w"
   },
   "outputs": [],
   "source": [
    "from spacy.training import offsets_to_biluo_tags\n",
    "\n",
    "# Check the match between entities and text\n",
    "for text, annotations in train_data:\n",
    "    doc = nlp.make_doc(text)  # Tạo Doc từ văn bản\n",
    "    entities = annotations[\"entities\"]\n",
    "\n",
    "\n",
    "    # biluo_tags = offsets_to_biluo_tags(doc, entities)\n",
    "    # print(f\"Text: {text}\")\n",
    "    # print(f\"Entities: {entities}\")\n",
    "    # print(f\"BILUO Tags: {biluo_tags}\")\n"
   ]
  },
  {
   "cell_type": "markdown",
   "metadata": {
    "id": "svbYvZjOyCNH"
   },
   "source": [
    "### Data processing\n"
   ]
  },
  {
   "cell_type": "code",
   "execution_count": 6,
   "metadata": {
    "colab": {
     "base_uri": "https://localhost:8080/"
    },
    "id": "0OUNGAk9QcuH",
    "outputId": "2031073f-bcd2-401f-fde6-8177e65a8475"
   },
   "outputs": [
    {
     "name": "stdout",
     "output_type": "stream",
     "text": [
      "Nguyên nhân do nhà đầu tư không đủ năng lực.Hướng tuyến đường nối .\n"
     ]
    }
   ],
   "source": [
    "from spacy.training import Example\n",
    "from sklearn.model_selection import train_test_split\n",
    "from spacy.training import Example, offsets_to_biluo_tags\n",
    "train_data, test_data = train_test_split(train_data, test_size=0.2, random_state=42)\n",
    "\n",
    "# Convert training data to Example objects\n",
    "train_examples = []\n",
    "for text, annotations in train_data:\n",
    "    # Create Doc from text\n",
    "    doc = nlp.make_doc(text)\n",
    "\n",
    "    # Check alignment of entities using offsets_to_biluo_tags\n",
    "    try:\n",
    "        # This will raise an error if the entity positions don't align with the text\n",
    "        biluo_tags = offsets_to_biluo_tags(doc, annotations['entities'])\n",
    "\n",
    "        # If no error, create Example object\n",
    "        example = Example.from_dict(doc, annotations)\n",
    "        train_examples.append(example)\n",
    "    except ValueError as e:\n",
    "        # Handle misalignment error (optional: log or inspect the problematic data)\n",
    "        print(f\"Misalignment error for text: {text}\")\n",
    "        print(f\"Error: {e}\")\n",
    "\n",
    "# Optional: Check first example\n",
    "print(train_examples[0].text)\n"
   ]
  },
  {
   "cell_type": "code",
   "execution_count": 9,
   "metadata": {},
   "outputs": [
    {
     "name": "stdout",
     "output_type": "stream",
     "text": [
      "Example 1:\n",
      "Text: Nguyên nhân do nhà đầu tư không đủ năng lực.Hướng tuyến đường nối .\n",
      "Entities: []\n",
      "--------------------------------------------------\n",
      "Example 2:\n",
      "Text: Khu vực này cách sân bay Phù Cát ( nơi máy bay xuất phát ) ở Bình Định hơn 100 km .\n",
      "Entities: [('sân bay', 17, 24, 'B-LOC'), ('Phù Cát', 25, 32, 'I-LOC'), ('Bình Định', 61, 70, 'B-LOC')]\n",
      "--------------------------------------------------\n",
      "Example 3:\n",
      "Text: Để đạt mục tiêu nêu trên , Tổng Bí thư yêu cầu đột phá hơn nữa về thể chế , tháo gỡ hết các khó khăn , vướng mắc , điểm nghẽn để khơi thông mọi nguồn lực và cải cách hành chính mạnh mẽ , kiến tạo môi trường thuận lợi để phát triển.Ghi nhận những kết quả bước đầu về đổi mới tư duy sâu sắc trong xây dựng pháp luật , nhưng Tổng Bí thư cho rằng phía trước còn rất nhiều việc phải làm để khơi thông \" điểm nghẽn của điểm nghẽn này \" .\n",
      "Entities: [('Tổng Bí thư', 322, 333, 'B-PER')]\n",
      "--------------------------------------------------\n",
      "Example 4:\n",
      "Text: \" Sau khi sắp xếp thu gọn đầu mối , điều chỉnh chức năng , nhiệm vụ quản lý nhà nước của các bộ , cơ quan ngang bộ thì về cơ bản khắc phục được những vấn đề còn giao thoa hiện nay \" , Bộ trưởng Nội vụ thông tin.Phu ̛ơng án sáp nhập giảm 5 bộ , 4 cơ quan của Chính phủNếu thực hiện theo phương án này , tổ chức bộ máy của Chính phủ và tổ chức bên trong của các bộ , cơ quan ngang bộ , cơ quan thuộc Chính phủ sẽ giảm tối thiểu 15 - 20% đầu mối tổ chức bên trong ( trừ Bộ Công an , Bộ Quốc phòng thực hiện theo quyết định của Bộ Chính trị ) , không bao gồm các tổ chức thuộc diện hợp nhất , sáp nhập do trùng lặp chức năng , nhiệm vụ khi thực hiện phương án sáp nhập các bộ.Kết thúc hoạt động của Ban cán sự đảng Chính phủĐối với các cấp uỷ , tổ chức đảng , Chính phủ đưa ra phương án kết thúc hoạt động của Ban cán sự đảng Chính phủ , lập Đảng bộ Chính phủ trực thuộc T.Ư Đảng , gồm các tổ chức đảng trong các bộ , cơ quan ngang bộ , cơ quan thuộc Chính phủ và một số đảng bộ trong các tập đoàn , tổng công ty , ngân hàng thương mại nhà nước ( riêng Đảng bộ Quân đội và Đảng bộ Công an trực thuộc T.Ư giữ nguyên như hiện nay ) ; có cơ quan chuyên trách tham mưu , giúp việc đặt tại cơ quan Chính phủ.Đảng uỷ Chính phủ , gồm : ban chấp hành , ban thường vụ , bí thư , phó bí thư đảng uỷ .\n",
      "Entities: [('phủNếu', 275, 282, 'B-PER'), ('Bộ', 479, 481, 'B-ORG'), ('Công an', 482, 489, 'I-ORG'), ('Bộ', 492, 494, 'B-ORG'), ('Quốc phòng', 495, 505, 'I-ORG'), ('Bộ Chính trị', 536, 548, 'B-ORG')]\n",
      "--------------------------------------------------\n",
      "Example 5:\n",
      "Text: \" Hoạt động này tiềm ẩn nhiều nguy cơ tác động tới an ninh , quốc phòng , trật tự , an toàn xã hội , nhất là dữ liệu cốt lõi , dữ liệu quan trọng của quốc gia \" , Bộ Công an nhận định .\n",
      "Entities: [('Bộ', 163, 165, 'B-ORG'), ('Công an', 166, 173, 'I-ORG')]\n",
      "--------------------------------------------------\n"
     ]
    }
   ],
   "source": [
    "# In 5 Example đầu tiên trong train_examples\n",
    "for i, example in enumerate(train_examples[:5]):\n",
    "    print(f\"Example {i + 1}:\")\n",
    "    print(f\"Text: {example.reference.text}\") #RAW TEXT\n",
    "\n",
    "    # SHOW ENTITITES\n",
    "    entities = [\n",
    "        (ent.text, ent.start_char, ent.end_char, ent.label_) \n",
    "        for ent in example.reference.ents\n",
    "    ]\n",
    "    print(f\"Entities: {entities}\")\n",
    "    print(\"-\" * 50)\n"
   ]
  },
  {
   "cell_type": "markdown",
   "metadata": {
    "id": "mXChBqL5-uZD"
   },
   "source": [
    "## Train model"
   ]
  },
  {
   "cell_type": "code",
   "execution_count": null,
   "metadata": {
    "colab": {
     "base_uri": "https://localhost:8080/"
    },
    "id": "Rwi7-TkcQiJp",
    "outputId": "aeac8169-8a48-462c-b117-546a0db1a6f1"
   },
   "outputs": [
    {
     "name": "stdout",
     "output_type": "stream",
     "text": [
      "Epoch 1\n",
      "Losses: {'ner': 10160.02453914525}\n",
      "Epoch 2\n",
      "Losses: {'ner': 6271.259646323885}\n",
      "Epoch 3\n",
      "Losses: {'ner': 5229.01031204718}\n",
      "Epoch 4\n",
      "Losses: {'ner': 4416.784663036895}\n",
      "Epoch 5\n",
      "Losses: {'ner': 3700.6436001176676}\n",
      "Epoch 6\n",
      "Losses: {'ner': 3292.6315551880743}\n",
      "Epoch 7\n",
      "Losses: {'ner': 3011.8336950316843}\n",
      "Epoch 8\n",
      "Losses: {'ner': 2732.501388711985}\n",
      "Epoch 9\n",
      "Losses: {'ner': 2559.772333797187}\n",
      "Epoch 10\n",
      "Losses: {'ner': 2410.552204241079}\n"
     ]
    }
   ],
   "source": [
    "import random\n",
    "\n",
    "# Begin training\n",
    "optimizer = nlp.begin_training()\n",
    "\n",
    "# Train the model for a few epochs\n",
    "for epoch in range(10):  # Adjust the number of epochs as needed\n",
    "    print(f\"Epoch {epoch+1}\")\n",
    "    random.shuffle(train_examples)  # Shuffle data for better training performance\n",
    "    losses = {}\n",
    "\n",
    "    for example in train_examples:\n",
    "        nlp.update([example], losses=losses)  # Update model weights\n",
    "    print(f\"Losses: {losses}\")\n"
   ]
  },
  {
   "cell_type": "code",
   "execution_count": null,
   "metadata": {},
   "outputs": [],
   "source": [
    "# Train from exist model\n",
    "import random\n",
    "import spacy\n",
    "nlp = spacy.load(\"IE Model\")\n",
    "# Begin training\n",
    "# optimizer = nlp.begin_training()\n",
    "\n",
    "# Train the model for a few epochs\n",
    "for epoch in range(10):  # Adjust the number of epochs as needed\n",
    "    print(f\"Epoch {epoch+1}\")\n",
    "    random.shuffle(train_examples)  # Shuffle data for better training performance\n",
    "    losses = {}\n",
    "\n",
    "    for example in train_examples:\n",
    "        nlp.update([example], losses=losses)  # Update model weights\n",
    "    print(f\"Losses: {losses}\")\n"
   ]
  },
  {
   "cell_type": "markdown",
   "metadata": {
    "id": "HD8npg4zdRua"
   },
   "source": [
    "### Evaluate model\n"
   ]
  },
  {
   "cell_type": "code",
   "execution_count": null,
   "metadata": {
    "colab": {
     "base_uri": "https://localhost:8080/"
    },
    "id": "GomCSNCD5TB3",
    "outputId": "01d0f881-0ca4-4825-d8b8-4f08b9e2045d"
   },
   "outputs": [],
   "source": [
    "from spacy.training import Example, offsets_to_biluo_tags\n",
    "\n",
    "# Convert test data to Example objects\n",
    "test_examples = []\n",
    "for text, annotations in test_data:\n",
    "    doc = nlp.make_doc(text)  # Create Doc from text\n",
    "\n",
    "    # Check alignment of entities using offsets_to_biluo_tags\n",
    "    try:\n",
    "        # This will raise an error if the entity positions don't align with the text\n",
    "        biluo_tags = offsets_to_biluo_tags(doc, annotations['entities'])\n",
    "\n",
    "        # If no error, create Example object\n",
    "        example = Example.from_dict(doc, annotations)\n",
    "        test_examples.append(example)\n",
    "    except ValueError as e:\n",
    "        # Handle misalignment error (optional: log or inspect the problematic data)\n",
    "        print(f\"Misalignment error for text: {text}\")\n",
    "        print(f\"Error: {e}\")\n",
    "\n",
    "# Evaluate the model\n",
    "accuracy = 0\n",
    "for example in test_examples:\n",
    "    # Get predictions for the test example\n",
    "    predicted_doc = nlp(example.text)\n",
    "    correct = 0\n",
    "    total = 0\n",
    "\n",
    "    # Compare the predicted and actual entities\n",
    "    for ent in example.reference.ents:\n",
    "        total += 1\n",
    "        if ent.text in [e.text for e in predicted_doc.ents]:\n",
    "            correct += 1\n",
    "\n",
    "    if total > 0:\n",
    "        accuracy += correct / total\n",
    "\n",
    "# Calculate overall accuracy\n",
    "accuracy /= len(test_examples)\n",
    "print(f\"Accuracy: {accuracy:.4f}\")\n"
   ]
  },
  {
   "cell_type": "code",
   "execution_count": 25,
   "metadata": {
    "colab": {
     "base_uri": "https://localhost:8080/"
    },
    "id": "5I2ij3cwdBXx",
    "outputId": "928fdb0c-c311-4b72-e63d-16997b871fd4"
   },
   "outputs": [
    {
     "name": "stdout",
     "output_type": "stream",
     "text": [
      "Precision: 0.8588, Recall: 0.9018, F1 Score: 0.8798\n"
     ]
    }
   ],
   "source": [
    "from sklearn.metrics import precision_score, recall_score, f1_score\n",
    "\n",
    "# Evaluate the model\n",
    "true_entities = []\n",
    "pred_entities = []\n",
    "\n",
    "for example in test_examples:\n",
    "    # Get predictions for the test example\n",
    "    predicted_doc = nlp(example.text)\n",
    "\n",
    "    # Collect true entities and their labels\n",
    "    true_entities += [(ent.text, ent.label_) for ent in example.reference.ents]\n",
    "\n",
    "    # Collect predicted entities and their labels\n",
    "    pred_entities += [(ent.text, ent.label_) for ent in predicted_doc.ents]\n",
    "\n",
    "# Convert to sets for exact match evaluation\n",
    "true_set = set(true_entities)\n",
    "pred_set = set(pred_entities)\n",
    "\n",
    "# Precision, Recall, F1 based on set overlap\n",
    "tp = len(true_set & pred_set)  # True Positives\n",
    "fp = len(pred_set - true_set)  # False Positives\n",
    "fn = len(true_set - pred_set)  # False Negatives\n",
    "\n",
    "precision = tp / (tp + fp) if tp + fp > 0 else 0.0\n",
    "recall = tp / (tp + fn) if tp + fn > 0 else 0.0\n",
    "f1 = 2 * precision * recall / (precision + recall) if precision + recall > 0 else 0.0\n",
    "\n",
    "# Print results\n",
    "print(f\"Precision: {precision:.4f}, Recall: {recall:.4f}, F1 Score: {f1:.4f}\")\n"
   ]
  },
  {
   "cell_type": "code",
   "execution_count": 26,
   "metadata": {
    "colab": {
     "base_uri": "https://localhost:8080/"
    },
    "id": "hvFVyN6NALka",
    "outputId": "d6fed86d-1151-405e-a66c-42460ea61fc9"
   },
   "outputs": [
    {
     "name": "stdout",
     "output_type": "stream",
     "text": [
      "              precision    recall  f1-score   support\n",
      "\n",
      "       B-LOC       0.95      0.94      0.94      2274\n",
      "      B-MISC       1.00      0.83      0.91        42\n",
      "       B-ORG       0.99      0.92      0.95       859\n",
      "       B-PER       0.96      0.92      0.94      1046\n",
      "       I-LOC       0.95      0.92      0.93      1087\n",
      "      I-MISC       0.83      0.73      0.78        41\n",
      "       I-ORG       0.95      0.90      0.92      1358\n",
      "       I-PER       1.00      0.60      0.75        15\n",
      "           O       0.00      1.00      0.00         0\n",
      "\n",
      "    accuracy                           0.92      6722\n",
      "   macro avg       0.85      0.86      0.79      6722\n",
      "weighted avg       0.96      0.92      0.94      6722\n",
      "\n"
     ]
    }
   ],
   "source": [
    "from sklearn.metrics import classification_report\n",
    "\n",
    "y_true = []\n",
    "y_pred = []\n",
    "for example in test_examples:\n",
    "    predicted_doc = nlp(example.text)\n",
    "    for ent in example.reference.ents:\n",
    "        y_true.append(ent.label_)\n",
    "        # Dự đoán nhãn của mô hình\n",
    "        pred_label = [e.label_ for e in predicted_doc.ents if e.text == ent.text]\n",
    "        y_pred.append(pred_label[0] if pred_label else 'O')\n",
    "\n",
    "# In ra các chỉ số Precision, Recall, F1-Score, và xử lý trường hợp không có dự đoán\n",
    "print(classification_report(y_true, y_pred, zero_division=1))\n"
   ]
  },
  {
   "cell_type": "code",
   "execution_count": null,
   "metadata": {
    "colab": {
     "base_uri": "https://localhost:8080/"
    },
    "id": "k-BBCvRDVmld",
    "outputId": "8f13cdf6-85c6-4816-bd59-13d05d00847d"
   },
   "outputs": [
    {
     "name": "stdout",
     "output_type": "stream",
     "text": [
      "Mô hình đã được lưu thành công!\n"
     ]
    }
   ],
   "source": [
    "# Lưu mô hình đã huấn luyện\n",
    "nlp.to_disk(\"IE Model\")\n",
    "print(\"Mô hình đã được lưu thành công!\")\n"
   ]
  },
  {
   "cell_type": "markdown",
   "metadata": {
    "id": "j7sUPThlGTYW"
   },
   "source": [
    "## Test model (Run here if having model)"
   ]
  },
  {
   "cell_type": "code",
   "execution_count": 1,
   "metadata": {
    "colab": {
     "base_uri": "https://localhost:8080/"
    },
    "id": "lIH6Bz9KV0Cz",
    "outputId": "287b8487-3396-41a0-f536-f27c9d746401"
   },
   "outputs": [
    {
     "name": "stderr",
     "output_type": "stream",
     "text": [
      "C:\\Users\\ADMIN\\AppData\\Local\\Packages\\PythonSoftwareFoundation.Python.3.11_qbz5n2kfra8p0\\LocalCache\\local-packages\\Python311\\site-packages\\spacy\\util.py:910: UserWarning: [W095] Model 'vi_pipeline' (0.0.0) was trained with spaCy v3.7.5 and may not be 100% compatible with the current version (3.8.2). If you see errors or degraded performance, download a newer compatible model or retrain your custom model with the current spaCy version. For more details and available updates, run: python -m spacy validate\n",
      "  warnings.warn(warn_msg)\n"
     ]
    },
    {
     "name": "stdout",
     "output_type": "stream",
     "text": [
      "Input: Ông Nguyễn Văn An là một giáo viên tại trường Đại học Bách Khoa.\n",
      "Output: <B-PER> Nguyễn Văn An <B-ORG> trường <I-ORG> Đại học <I-ORG> Bách Khoa\n",
      "\n",
      "Input: Hà Nội là thủ đô của Việt Nam.\n",
      "Output: <B-LOC> Hà Nội <B-LOC> Việt Nam\n",
      "\n",
      "Input: Công ty FPT Technology là một trong những công ty công nghệ lớn nhất ở Việt Nam.\n",
      "Output: <B-ORG> Công ty <I-ORG> FPT <B-LOC> Việt Nam\n",
      "\n",
      "Input: Sự kiện Techfest 2024 sẽ diễn ra tại Hà Nội.\n",
      "Output: <B-LOC> Hà Nội\n",
      "\n",
      "Input: Facebook đã mở văn phòng mới tại Singapore.\n",
      "Output: <B-LOC> Singapore\n",
      "\n",
      "Input: Bà Nguyễn Thị Mai Châu là giám đốc của ngân hàng Techcombank.\n",
      "Output: <B-PER> Nguyễn Thị Mai Châu\n",
      "\n",
      "Input: Thái Lan và Việt Nam sẽ thi đấu tại sân vận động Mỹ Đình.\n",
      "Output: <B-LOC> Thái Lan <B-LOC> Việt Nam\n",
      "\n",
      "Input: Ông Nguyễn Văn Bé vừa được trao giải thưởng sáng tạo của năm.\n",
      "Output: <B-PER> Nguyễn Văn Bé\n",
      "\n",
      "Input: Trời hôm nay đẹp và có nắng.\n",
      "Output: No entities found\n",
      "\n",
      "Input: Vào năm 2025, Google sẽ mở thêm một văn phòng tại thành phố Hồ Chí Minh và có kế hoạch hợp tác với Đại học Quốc gia Hà Nội.\n",
      "Output: <B-ORG> Google <B-LOC> thành phố <I-LOC> Hồ Chí Minh <B-ORG> Đại học <I-ORG> Quốc gia <I-ORG> Hà Nội\n",
      "\n"
     ]
    }
   ],
   "source": [
    "import spacy\n",
    "\n",
    "# Giả sử mô hình đã được huấn luyện và lưu trữ tại path_to_save_model\n",
    "nlp = spacy.load(\"IE Model\")\n",
    "\n",
    "# Hàm format kết quả thành định dạng <label> entity\n",
    "def format_entities(doc):\n",
    "    if not doc.ents:\n",
    "        return \"No entities found\"  # Nếu không có thực thể nào, trả về thông báo\n",
    "    formatted_output = []\n",
    "    for ent in doc.ents:\n",
    "        formatted_output.append(f\"<{ent.label_}> {ent.text}\")\n",
    "    return \" \".join(formatted_output)\n",
    "\n",
    "# Danh sách các câu cần kiểm tra\n",
    "test_sentences = [\n",
    "    \"Ông Nguyễn Văn An là một giáo viên tại trường Đại học Bách Khoa.\",\n",
    "    \"Hà Nội là thủ đô của Việt Nam.\",\n",
    "    \"Công ty FPT Technology là một trong những công ty công nghệ lớn nhất ở Việt Nam.\",\n",
    "    \"Sự kiện Techfest 2024 sẽ diễn ra tại Hà Nội.\",\n",
    "    \"Facebook đã mở văn phòng mới tại Singapore.\",\n",
    "    \"Bà Nguyễn Thị Mai Châu là giám đốc của ngân hàng Techcombank.\",\n",
    "    \"Thái Lan và Việt Nam sẽ thi đấu tại sân vận động Mỹ Đình.\",\n",
    "    \"Ông Nguyễn Văn Bé vừa được trao giải thưởng sáng tạo của năm.\",\n",
    "    \"Trời hôm nay đẹp và có nắng.\",\n",
    "    \"Vào năm 2025, Google sẽ mở thêm một văn phòng tại thành phố Hồ Chí Minh và có kế hoạch hợp tác với Đại học Quốc gia Hà Nội.\"\n",
    "]\n",
    "\n",
    "# Xử lý từng câu trong danh sách test_sentences\n",
    "for test_text in test_sentences:\n",
    "    doc = nlp(test_text)\n",
    "    formatted_output = format_entities(doc)\n",
    "    print(f\"Input: {test_text}\\nOutput: {formatted_output}\\n\")\n"
   ]
  },
  {
   "cell_type": "code",
   "execution_count": null,
   "metadata": {
    "id": "P_A0L6C3CBsv"
   },
   "outputs": [],
   "source": [
    "# test_sentences = [\n",
    "#     \"Nguyễn Văn A là một giáo viên tại trường Đại học Bách Khoa.\",\n",
    "#     \"Hà Nội là thủ đô của Việt Nam.\",\n",
    "#     \"Công ty FPT là một trong những công ty công nghệ lớn nhất ở Việt Nam.\",\n",
    "#     \"Sự kiện Techfest 2024 sẽ diễn ra tại Hà Nội.\",\n",
    "#     \"Facebook đã mở văn phòng mới tại Singapore.\",\n",
    "#     \"Bà Nguyễn Thị Mai Châu là giám đốc của Techcombank.\",\n",
    "#     \"Thái Lan và Việt Nam sẽ thi đấu tại sân vận động Mỹ Đình.\",\n",
    "#     \"Nguyễn Văn B vừa được trao giải thưởng sáng tạo của năm.\",\n",
    "#     \"Trời hôm nay đẹp và có nắng.\",\n",
    "#     \"Vào năm 2025, Google sẽ mở thêm một văn phòng tại thành phố Hồ Chí Minh và có kế hoạch hợp tác với Đại học Quốc gia Hà Nội.\"\n",
    "# ]"
   ]
  },
  {
   "cell_type": "markdown",
   "metadata": {
    "id": "GmU3Dq4Ksx-x"
   },
   "source": [
    "# Using pre-trained model"
   ]
  },
  {
   "cell_type": "code",
   "execution_count": 1,
   "metadata": {
    "colab": {
     "base_uri": "https://localhost:8080/"
    },
    "collapsed": true,
    "id": "C-kmrWbVsz0U",
    "outputId": "6a680441-dfaa-482b-8ed9-5beca401292f"
   },
   "outputs": [
    {
     "name": "stdout",
     "output_type": "stream",
     "text": [
      "Collecting transformers\n",
      "  Using cached transformers-4.46.3-py3-none-any.whl.metadata (44 kB)\n",
      "Collecting datasets\n",
      "  Using cached datasets-3.1.0-py3-none-any.whl.metadata (20 kB)\n",
      "Requirement already satisfied: torch in c:\\users\\admin\\appdata\\local\\packages\\pythonsoftwarefoundation.python.3.11_qbz5n2kfra8p0\\localcache\\local-packages\\python311\\site-packages (2.5.1)\n",
      "Requirement already satisfied: scikit-learn in c:\\users\\admin\\appdata\\local\\packages\\pythonsoftwarefoundation.python.3.11_qbz5n2kfra8p0\\localcache\\local-packages\\python311\\site-packages (1.5.2)\n",
      "Requirement already satisfied: filelock in c:\\users\\admin\\appdata\\local\\packages\\pythonsoftwarefoundation.python.3.11_qbz5n2kfra8p0\\localcache\\local-packages\\python311\\site-packages (from transformers) (3.16.1)\n",
      "Requirement already satisfied: huggingface-hub<1.0,>=0.23.2 in c:\\users\\admin\\appdata\\local\\packages\\pythonsoftwarefoundation.python.3.11_qbz5n2kfra8p0\\localcache\\local-packages\\python311\\site-packages (from transformers) (0.26.3)\n",
      "Requirement already satisfied: numpy>=1.17 in c:\\users\\admin\\appdata\\local\\packages\\pythonsoftwarefoundation.python.3.11_qbz5n2kfra8p0\\localcache\\local-packages\\python311\\site-packages (from transformers) (2.1.3)\n",
      "Requirement already satisfied: packaging>=20.0 in c:\\users\\admin\\appdata\\local\\packages\\pythonsoftwarefoundation.python.3.11_qbz5n2kfra8p0\\localcache\\local-packages\\python311\\site-packages (from transformers) (24.1)\n",
      "Requirement already satisfied: pyyaml>=5.1 in c:\\users\\admin\\appdata\\local\\packages\\pythonsoftwarefoundation.python.3.11_qbz5n2kfra8p0\\localcache\\local-packages\\python311\\site-packages (from transformers) (6.0.2)\n",
      "Requirement already satisfied: regex!=2019.12.17 in c:\\users\\admin\\appdata\\local\\packages\\pythonsoftwarefoundation.python.3.11_qbz5n2kfra8p0\\localcache\\local-packages\\python311\\site-packages (from transformers) (2024.11.6)\n",
      "Requirement already satisfied: requests in c:\\users\\admin\\appdata\\local\\packages\\pythonsoftwarefoundation.python.3.11_qbz5n2kfra8p0\\localcache\\local-packages\\python311\\site-packages (from transformers) (2.32.3)\n",
      "Requirement already satisfied: tokenizers<0.21,>=0.20 in c:\\users\\admin\\appdata\\local\\packages\\pythonsoftwarefoundation.python.3.11_qbz5n2kfra8p0\\localcache\\local-packages\\python311\\site-packages (from transformers) (0.20.3)\n",
      "Requirement already satisfied: safetensors>=0.4.1 in c:\\users\\admin\\appdata\\local\\packages\\pythonsoftwarefoundation.python.3.11_qbz5n2kfra8p0\\localcache\\local-packages\\python311\\site-packages (from transformers) (0.4.5)\n",
      "Requirement already satisfied: tqdm>=4.27 in c:\\users\\admin\\appdata\\local\\packages\\pythonsoftwarefoundation.python.3.11_qbz5n2kfra8p0\\localcache\\local-packages\\python311\\site-packages (from transformers) (4.67.0)\n",
      "Requirement already satisfied: pyarrow>=15.0.0 in c:\\users\\admin\\appdata\\local\\packages\\pythonsoftwarefoundation.python.3.11_qbz5n2kfra8p0\\localcache\\local-packages\\python311\\site-packages (from datasets) (18.1.0)\n",
      "Requirement already satisfied: dill<0.3.9,>=0.3.0 in c:\\users\\admin\\appdata\\local\\packages\\pythonsoftwarefoundation.python.3.11_qbz5n2kfra8p0\\localcache\\local-packages\\python311\\site-packages (from datasets) (0.3.8)\n",
      "Requirement already satisfied: pandas in c:\\users\\admin\\appdata\\local\\packages\\pythonsoftwarefoundation.python.3.11_qbz5n2kfra8p0\\localcache\\local-packages\\python311\\site-packages (from datasets) (2.2.3)\n",
      "Requirement already satisfied: xxhash in c:\\users\\admin\\appdata\\local\\packages\\pythonsoftwarefoundation.python.3.11_qbz5n2kfra8p0\\localcache\\local-packages\\python311\\site-packages (from datasets) (3.5.0)\n",
      "Requirement already satisfied: multiprocess<0.70.17 in c:\\users\\admin\\appdata\\local\\packages\\pythonsoftwarefoundation.python.3.11_qbz5n2kfra8p0\\localcache\\local-packages\\python311\\site-packages (from datasets) (0.70.16)\n",
      "Requirement already satisfied: fsspec<=2024.9.0,>=2023.1.0 in c:\\users\\admin\\appdata\\local\\packages\\pythonsoftwarefoundation.python.3.11_qbz5n2kfra8p0\\localcache\\local-packages\\python311\\site-packages (from fsspec[http]<=2024.9.0,>=2023.1.0->datasets) (2024.9.0)\n",
      "Requirement already satisfied: aiohttp in c:\\users\\admin\\appdata\\local\\packages\\pythonsoftwarefoundation.python.3.11_qbz5n2kfra8p0\\localcache\\local-packages\\python311\\site-packages (from datasets) (3.11.9)\n",
      "Requirement already satisfied: typing-extensions>=4.8.0 in c:\\users\\admin\\appdata\\local\\packages\\pythonsoftwarefoundation.python.3.11_qbz5n2kfra8p0\\localcache\\local-packages\\python311\\site-packages (from torch) (4.12.2)\n",
      "Requirement already satisfied: networkx in c:\\users\\admin\\appdata\\local\\packages\\pythonsoftwarefoundation.python.3.11_qbz5n2kfra8p0\\localcache\\local-packages\\python311\\site-packages (from torch) (3.4.2)\n",
      "Requirement already satisfied: jinja2 in c:\\users\\admin\\appdata\\local\\packages\\pythonsoftwarefoundation.python.3.11_qbz5n2kfra8p0\\localcache\\local-packages\\python311\\site-packages (from torch) (3.1.4)\n",
      "Requirement already satisfied: sympy==1.13.1 in c:\\users\\admin\\appdata\\local\\packages\\pythonsoftwarefoundation.python.3.11_qbz5n2kfra8p0\\localcache\\local-packages\\python311\\site-packages (from torch) (1.13.1)\n",
      "Requirement already satisfied: mpmath<1.4,>=1.1.0 in c:\\users\\admin\\appdata\\local\\packages\\pythonsoftwarefoundation.python.3.11_qbz5n2kfra8p0\\localcache\\local-packages\\python311\\site-packages (from sympy==1.13.1->torch) (1.3.0)\n",
      "Requirement already satisfied: scipy>=1.6.0 in c:\\users\\admin\\appdata\\local\\packages\\pythonsoftwarefoundation.python.3.11_qbz5n2kfra8p0\\localcache\\local-packages\\python311\\site-packages (from scikit-learn) (1.14.1)\n",
      "Requirement already satisfied: joblib>=1.2.0 in c:\\users\\admin\\appdata\\local\\packages\\pythonsoftwarefoundation.python.3.11_qbz5n2kfra8p0\\localcache\\local-packages\\python311\\site-packages (from scikit-learn) (1.4.2)\n",
      "Requirement already satisfied: threadpoolctl>=3.1.0 in c:\\users\\admin\\appdata\\local\\packages\\pythonsoftwarefoundation.python.3.11_qbz5n2kfra8p0\\localcache\\local-packages\\python311\\site-packages (from scikit-learn) (3.5.0)\n",
      "Requirement already satisfied: aiohappyeyeballs>=2.3.0 in c:\\users\\admin\\appdata\\local\\packages\\pythonsoftwarefoundation.python.3.11_qbz5n2kfra8p0\\localcache\\local-packages\\python311\\site-packages (from aiohttp->datasets) (2.4.4)\n",
      "Requirement already satisfied: aiosignal>=1.1.2 in c:\\users\\admin\\appdata\\local\\packages\\pythonsoftwarefoundation.python.3.11_qbz5n2kfra8p0\\localcache\\local-packages\\python311\\site-packages (from aiohttp->datasets) (1.3.1)\n",
      "Requirement already satisfied: attrs>=17.3.0 in c:\\users\\admin\\appdata\\local\\packages\\pythonsoftwarefoundation.python.3.11_qbz5n2kfra8p0\\localcache\\local-packages\\python311\\site-packages (from aiohttp->datasets) (24.2.0)\n",
      "Requirement already satisfied: frozenlist>=1.1.1 in c:\\users\\admin\\appdata\\local\\packages\\pythonsoftwarefoundation.python.3.11_qbz5n2kfra8p0\\localcache\\local-packages\\python311\\site-packages (from aiohttp->datasets) (1.5.0)\n",
      "Requirement already satisfied: multidict<7.0,>=4.5 in c:\\users\\admin\\appdata\\local\\packages\\pythonsoftwarefoundation.python.3.11_qbz5n2kfra8p0\\localcache\\local-packages\\python311\\site-packages (from aiohttp->datasets) (6.1.0)\n",
      "Requirement already satisfied: propcache>=0.2.0 in c:\\users\\admin\\appdata\\local\\packages\\pythonsoftwarefoundation.python.3.11_qbz5n2kfra8p0\\localcache\\local-packages\\python311\\site-packages (from aiohttp->datasets) (0.2.1)\n",
      "Requirement already satisfied: yarl<2.0,>=1.17.0 in c:\\users\\admin\\appdata\\local\\packages\\pythonsoftwarefoundation.python.3.11_qbz5n2kfra8p0\\localcache\\local-packages\\python311\\site-packages (from aiohttp->datasets) (1.18.3)\n",
      "Requirement already satisfied: charset-normalizer<4,>=2 in c:\\users\\admin\\appdata\\local\\packages\\pythonsoftwarefoundation.python.3.11_qbz5n2kfra8p0\\localcache\\local-packages\\python311\\site-packages (from requests->transformers) (3.4.0)\n",
      "Requirement already satisfied: idna<4,>=2.5 in c:\\users\\admin\\appdata\\local\\packages\\pythonsoftwarefoundation.python.3.11_qbz5n2kfra8p0\\localcache\\local-packages\\python311\\site-packages (from requests->transformers) (3.10)\n",
      "Requirement already satisfied: urllib3<3,>=1.21.1 in c:\\users\\admin\\appdata\\local\\packages\\pythonsoftwarefoundation.python.3.11_qbz5n2kfra8p0\\localcache\\local-packages\\python311\\site-packages (from requests->transformers) (2.2.3)\n",
      "Requirement already satisfied: certifi>=2017.4.17 in c:\\users\\admin\\appdata\\local\\packages\\pythonsoftwarefoundation.python.3.11_qbz5n2kfra8p0\\localcache\\local-packages\\python311\\site-packages (from requests->transformers) (2024.8.30)\n",
      "Requirement already satisfied: colorama in c:\\users\\admin\\appdata\\local\\packages\\pythonsoftwarefoundation.python.3.11_qbz5n2kfra8p0\\localcache\\local-packages\\python311\\site-packages (from tqdm>=4.27->transformers) (0.4.6)\n",
      "Requirement already satisfied: MarkupSafe>=2.0 in c:\\users\\admin\\appdata\\local\\packages\\pythonsoftwarefoundation.python.3.11_qbz5n2kfra8p0\\localcache\\local-packages\\python311\\site-packages (from jinja2->torch) (3.0.2)\n",
      "Requirement already satisfied: python-dateutil>=2.8.2 in c:\\users\\admin\\appdata\\local\\packages\\pythonsoftwarefoundation.python.3.11_qbz5n2kfra8p0\\localcache\\local-packages\\python311\\site-packages (from pandas->datasets) (2.9.0.post0)\n",
      "Requirement already satisfied: pytz>=2020.1 in c:\\users\\admin\\appdata\\local\\packages\\pythonsoftwarefoundation.python.3.11_qbz5n2kfra8p0\\localcache\\local-packages\\python311\\site-packages (from pandas->datasets) (2024.2)\n",
      "Requirement already satisfied: tzdata>=2022.7 in c:\\users\\admin\\appdata\\local\\packages\\pythonsoftwarefoundation.python.3.11_qbz5n2kfra8p0\\localcache\\local-packages\\python311\\site-packages (from pandas->datasets) (2024.2)\n",
      "Requirement already satisfied: six>=1.5 in c:\\users\\admin\\appdata\\local\\packages\\pythonsoftwarefoundation.python.3.11_qbz5n2kfra8p0\\localcache\\local-packages\\python311\\site-packages (from python-dateutil>=2.8.2->pandas->datasets) (1.16.0)\n",
      "Using cached transformers-4.46.3-py3-none-any.whl (10.0 MB)\n",
      "Using cached datasets-3.1.0-py3-none-any.whl (480 kB)\n",
      "Installing collected packages: transformers, datasets\n",
      "Successfully installed datasets-3.1.0 transformers-4.46.3\n"
     ]
    }
   ],
   "source": [
    "!pip install transformers datasets torch scikit-learn\n"
   ]
  },
  {
   "cell_type": "markdown",
   "metadata": {
    "id": "4l945yjyhdGi"
   },
   "source": [
    "## Read dataset"
   ]
  },
  {
   "cell_type": "code",
   "execution_count": 2,
   "metadata": {
    "colab": {
     "base_uri": "https://localhost:8080/"
    },
    "id": "Si1iBwFsD36f",
    "outputId": "d734ebb1-94ab-4bc8-ad23-80189203eaee"
   },
   "outputs": [
    {
     "name": "stderr",
     "output_type": "stream",
     "text": [
      "C:\\Users\\ADMIN\\AppData\\Local\\Packages\\PythonSoftwareFoundation.Python.3.11_qbz5n2kfra8p0\\LocalCache\\local-packages\\Python311\\site-packages\\tqdm\\auto.py:21: TqdmWarning: IProgress not found. Please update jupyter and ipywidgets. See https://ipywidgets.readthedocs.io/en/stable/user_install.html\n",
      "  from .autonotebook import tqdm as notebook_tqdm\n"
     ]
    },
    {
     "name": "stdout",
     "output_type": "stream",
     "text": [
      "Number of training sentences: 5949\n",
      "Number of testing sentences: 1488\n"
     ]
    }
   ],
   "source": [
    "from datasets import Dataset\n",
    "from sklearn.model_selection import train_test_split\n",
    "\n",
    "def read_conll(file_path):\n",
    "    tokens, ner_tags = [], []\n",
    "    sentences = []\n",
    "\n",
    "    with open(file_path, \"r\", encoding=\"utf-8\") as file:\n",
    "        for line in file:\n",
    "            line = line.strip()\n",
    "            if not line:  # End line\n",
    "                if tokens:\n",
    "                    sentences.append({\"tokens\": tokens, \"ner_tags\": ner_tags})\n",
    "                    tokens, ner_tags = [], []\n",
    "            else:\n",
    "                parts = line.split(\"\\t\")\n",
    "                if len(parts) != 2:  # check format\n",
    "                    print(f\"Skipping invalid line: {line}\")\n",
    "                    continue\n",
    "                word, label = parts\n",
    "                tokens.append(word)\n",
    "                ner_tags.append(label)\n",
    "        if tokens:\n",
    "            sentences.append({\"tokens\": tokens, \"ner_tags\": ner_tags})\n",
    "\n",
    "    return sentences\n",
    "\n",
    "\n",
    "file_path = \"training_data.conll\"\n",
    "data = read_conll(file_path)\n",
    "\n",
    "# split train/test (80% train, 20% test)\n",
    "train_sentences, test_sentences = train_test_split(data, test_size=0.2, random_state=42)\n",
    "\n",
    "# Change data Hugging Face Dataset\n",
    "train_data = Dataset.from_list(train_sentences)\n",
    "test_data = Dataset.from_list(test_sentences)\n",
    "\n",
    "print(f\"Number of training sentences: {len(train_data)}\")\n",
    "print(f\"Number of testing sentences: {len(test_data)}\")\n"
   ]
  },
  {
   "cell_type": "markdown",
   "metadata": {
    "id": "47Gv_g18ifzN"
   },
   "source": [
    "### Check label"
   ]
  },
  {
   "cell_type": "code",
   "execution_count": 6,
   "metadata": {
    "colab": {
     "base_uri": "https://localhost:8080/",
     "height": 81,
     "referenced_widgets": [
      "74bde4be1ca74e22b7dd1c8afad0d8bf",
      "4d42f4d2090c462a8e2a3c3e7bc3b92a",
      "39622cf032da40d6bc8fc22e138a9a78",
      "364b09637f1c49b7992f525677ec1597",
      "2af27f5593e24252a5c0f0708c9efaa7",
      "b77f11bed2a448c6b9dc0f3d7148f6b3",
      "093ddbf441824993a87580928d0de389",
      "3c78205595ae4eda82c9fadd013e2051",
      "8010aad8193c4105bc853df5163e0b0a",
      "d8ae509c58254b65bea88e1c6274f735",
      "9f1964f0229a4b4c8fbf52ac981a8d87",
      "ee7648eba86a45eba0f5934432715f4a",
      "4686fa0c04b948969e72d5ed33b98357",
      "bcbc35c5365d4c8a84e8681e2d3661f8",
      "e6a0d59fe68c48bba2bc0d99bba7730d",
      "0100b5eeb0fa4ef8ba52ae59b24ffbf0",
      "d7451146bb924ddd9879186491ed1cf5",
      "1bbe064e515342d7882294ebc682b347",
      "085c30b5b9fd406aa761a917d2f181fc",
      "fbe3e71dff8d4f65ac39f4200c8370f4",
      "ca67882cc63c404b9400a649a88956ff",
      "1a85bd3fccb84617bcc72b0b3d81d47e"
     ]
    },
    "id": "Kn_D_MPlD7-J",
    "outputId": "e36a2d12-258e-497f-ddf5-2c307d1b4f76"
   },
   "outputs": [
    {
     "name": "stderr",
     "output_type": "stream",
     "text": [
      "Map: 100%|██████████| 5949/5949 [00:01<00:00, 5137.43 examples/s]\n",
      "Map: 100%|██████████| 1488/1488 [00:00<00:00, 6602.63 examples/s]\n"
     ]
    }
   ],
   "source": [
    "label_list = ['O', 'B-MISC', 'I-MISC', 'B-PER', 'I-PER', 'B-LOC', 'I-LOC', 'B-ORG', 'I-ORG']\n",
    "label_to_id = {label: i for i, label in enumerate(label_list)}\n",
    "id_to_label = {i: label for label, i in label_to_id.items()}\n",
    "\n",
    "def encode_labels(examples):\n",
    "    # Chuyển đổi nhãn và đảm bảo không có nhãn lạ\n",
    "    examples[\"labels\"] = [\n",
    "        [label_to_id.get(label, label_to_id['O']) for label in tags]  # Gán giá trị mặc định 'O' nếu nhãn không có trong label_to_id\n",
    "        for tags in examples[\"ner_tags\"]\n",
    "    ]\n",
    "    return examples\n",
    "\n",
    "train_data = train_data.map(encode_labels)\n",
    "test_data = test_data.map(encode_labels)\n",
    "\n"
   ]
  },
  {
   "cell_type": "code",
   "execution_count": 7,
   "metadata": {
    "colab": {
     "base_uri": "https://localhost:8080/"
    },
    "id": "8vi_4u6gD-SQ",
    "outputId": "8a554970-2517-431d-af10-74c04475008e"
   },
   "outputs": [
    {
     "name": "stdout",
     "output_type": "stream",
     "text": [
      "Labels found in train data: {'I-ORG', 'I-MISC', 'B-ORG', 'I-LOC', 'O', 'B-PER', 'I-PER', 'B-MISC', 'B-LOC'}\n"
     ]
    }
   ],
   "source": [
    "# Kiểm tra các nhãn trong dữ liệu\n",
    "all_labels = set()\n",
    "for example in train_data:\n",
    "    all_labels.update(example[\"ner_tags\"])\n",
    "\n",
    "print(\"Labels found in train data:\", all_labels)\n"
   ]
  },
  {
   "cell_type": "markdown",
   "metadata": {
    "id": "P-hg56-mimRv"
   },
   "source": [
    "## Train with pre-trained model"
   ]
  },
  {
   "cell_type": "code",
   "execution_count": 38,
   "metadata": {
    "id": "8RhDXbvoHE3f"
   },
   "outputs": [],
   "source": [
    "import os\n",
    "os.environ[\"WANDB_DISABLED\"] = \"true\""
   ]
  },
  {
   "cell_type": "code",
   "execution_count": 3,
   "metadata": {
    "colab": {
     "base_uri": "https://localhost:8080/"
    },
    "collapsed": true,
    "id": "9sZr6mH_UDlG",
    "outputId": "87f75171-caec-41bd-f3d8-8d69b4378789"
   },
   "outputs": [
    {
     "name": "stdout",
     "output_type": "stream",
     "text": [
      "Requirement already satisfied: transformers in c:\\users\\admin\\appdata\\local\\packages\\pythonsoftwarefoundation.python.3.11_qbz5n2kfra8p0\\localcache\\local-packages\\python311\\site-packages (4.46.3)\n",
      "Requirement already satisfied: filelock in c:\\users\\admin\\appdata\\local\\packages\\pythonsoftwarefoundation.python.3.11_qbz5n2kfra8p0\\localcache\\local-packages\\python311\\site-packages (from transformers) (3.16.1)\n",
      "Requirement already satisfied: huggingface-hub<1.0,>=0.23.2 in c:\\users\\admin\\appdata\\local\\packages\\pythonsoftwarefoundation.python.3.11_qbz5n2kfra8p0\\localcache\\local-packages\\python311\\site-packages (from transformers) (0.26.3)\n",
      "Requirement already satisfied: numpy>=1.17 in c:\\users\\admin\\appdata\\local\\packages\\pythonsoftwarefoundation.python.3.11_qbz5n2kfra8p0\\localcache\\local-packages\\python311\\site-packages (from transformers) (2.1.3)\n",
      "Requirement already satisfied: packaging>=20.0 in c:\\users\\admin\\appdata\\local\\packages\\pythonsoftwarefoundation.python.3.11_qbz5n2kfra8p0\\localcache\\local-packages\\python311\\site-packages (from transformers) (24.1)\n",
      "Requirement already satisfied: pyyaml>=5.1 in c:\\users\\admin\\appdata\\local\\packages\\pythonsoftwarefoundation.python.3.11_qbz5n2kfra8p0\\localcache\\local-packages\\python311\\site-packages (from transformers) (6.0.2)\n",
      "Requirement already satisfied: regex!=2019.12.17 in c:\\users\\admin\\appdata\\local\\packages\\pythonsoftwarefoundation.python.3.11_qbz5n2kfra8p0\\localcache\\local-packages\\python311\\site-packages (from transformers) (2024.11.6)\n",
      "Requirement already satisfied: requests in c:\\users\\admin\\appdata\\local\\packages\\pythonsoftwarefoundation.python.3.11_qbz5n2kfra8p0\\localcache\\local-packages\\python311\\site-packages (from transformers) (2.32.3)\n",
      "Requirement already satisfied: tokenizers<0.21,>=0.20 in c:\\users\\admin\\appdata\\local\\packages\\pythonsoftwarefoundation.python.3.11_qbz5n2kfra8p0\\localcache\\local-packages\\python311\\site-packages (from transformers) (0.20.3)\n",
      "Requirement already satisfied: safetensors>=0.4.1 in c:\\users\\admin\\appdata\\local\\packages\\pythonsoftwarefoundation.python.3.11_qbz5n2kfra8p0\\localcache\\local-packages\\python311\\site-packages (from transformers) (0.4.5)\n",
      "Requirement already satisfied: tqdm>=4.27 in c:\\users\\admin\\appdata\\local\\packages\\pythonsoftwarefoundation.python.3.11_qbz5n2kfra8p0\\localcache\\local-packages\\python311\\site-packages (from transformers) (4.67.0)\n",
      "Requirement already satisfied: fsspec>=2023.5.0 in c:\\users\\admin\\appdata\\local\\packages\\pythonsoftwarefoundation.python.3.11_qbz5n2kfra8p0\\localcache\\local-packages\\python311\\site-packages (from huggingface-hub<1.0,>=0.23.2->transformers) (2024.9.0)\n",
      "Requirement already satisfied: typing-extensions>=3.7.4.3 in c:\\users\\admin\\appdata\\local\\packages\\pythonsoftwarefoundation.python.3.11_qbz5n2kfra8p0\\localcache\\local-packages\\python311\\site-packages (from huggingface-hub<1.0,>=0.23.2->transformers) (4.12.2)\n",
      "Requirement already satisfied: colorama in c:\\users\\admin\\appdata\\local\\packages\\pythonsoftwarefoundation.python.3.11_qbz5n2kfra8p0\\localcache\\local-packages\\python311\\site-packages (from tqdm>=4.27->transformers) (0.4.6)\n",
      "Requirement already satisfied: charset-normalizer<4,>=2 in c:\\users\\admin\\appdata\\local\\packages\\pythonsoftwarefoundation.python.3.11_qbz5n2kfra8p0\\localcache\\local-packages\\python311\\site-packages (from requests->transformers) (3.4.0)\n",
      "Requirement already satisfied: idna<4,>=2.5 in c:\\users\\admin\\appdata\\local\\packages\\pythonsoftwarefoundation.python.3.11_qbz5n2kfra8p0\\localcache\\local-packages\\python311\\site-packages (from requests->transformers) (3.10)\n",
      "Requirement already satisfied: urllib3<3,>=1.21.1 in c:\\users\\admin\\appdata\\local\\packages\\pythonsoftwarefoundation.python.3.11_qbz5n2kfra8p0\\localcache\\local-packages\\python311\\site-packages (from requests->transformers) (2.2.3)\n",
      "Requirement already satisfied: certifi>=2017.4.17 in c:\\users\\admin\\appdata\\local\\packages\\pythonsoftwarefoundation.python.3.11_qbz5n2kfra8p0\\localcache\\local-packages\\python311\\site-packages (from requests->transformers) (2024.8.30)\n",
      "Requirement already satisfied: torch in c:\\users\\admin\\appdata\\local\\packages\\pythonsoftwarefoundation.python.3.11_qbz5n2kfra8p0\\localcache\\local-packages\\python311\\site-packages (2.5.1)\n",
      "Requirement already satisfied: filelock in c:\\users\\admin\\appdata\\local\\packages\\pythonsoftwarefoundation.python.3.11_qbz5n2kfra8p0\\localcache\\local-packages\\python311\\site-packages (from torch) (3.16.1)\n",
      "Requirement already satisfied: typing-extensions>=4.8.0 in c:\\users\\admin\\appdata\\local\\packages\\pythonsoftwarefoundation.python.3.11_qbz5n2kfra8p0\\localcache\\local-packages\\python311\\site-packages (from torch) (4.12.2)\n",
      "Requirement already satisfied: networkx in c:\\users\\admin\\appdata\\local\\packages\\pythonsoftwarefoundation.python.3.11_qbz5n2kfra8p0\\localcache\\local-packages\\python311\\site-packages (from torch) (3.4.2)\n",
      "Requirement already satisfied: jinja2 in c:\\users\\admin\\appdata\\local\\packages\\pythonsoftwarefoundation.python.3.11_qbz5n2kfra8p0\\localcache\\local-packages\\python311\\site-packages (from torch) (3.1.4)\n",
      "Requirement already satisfied: fsspec in c:\\users\\admin\\appdata\\local\\packages\\pythonsoftwarefoundation.python.3.11_qbz5n2kfra8p0\\localcache\\local-packages\\python311\\site-packages (from torch) (2024.9.0)\n",
      "Requirement already satisfied: sympy==1.13.1 in c:\\users\\admin\\appdata\\local\\packages\\pythonsoftwarefoundation.python.3.11_qbz5n2kfra8p0\\localcache\\local-packages\\python311\\site-packages (from torch) (1.13.1)\n",
      "Requirement already satisfied: mpmath<1.4,>=1.1.0 in c:\\users\\admin\\appdata\\local\\packages\\pythonsoftwarefoundation.python.3.11_qbz5n2kfra8p0\\localcache\\local-packages\\python311\\site-packages (from sympy==1.13.1->torch) (1.3.0)\n",
      "Requirement already satisfied: MarkupSafe>=2.0 in c:\\users\\admin\\appdata\\local\\packages\\pythonsoftwarefoundation.python.3.11_qbz5n2kfra8p0\\localcache\\local-packages\\python311\\site-packages (from jinja2->torch) (3.0.2)\n"
     ]
    }
   ],
   "source": [
    "!pip install --upgrade transformers\n",
    "!pip install --upgrade torch\n"
   ]
  },
  {
   "cell_type": "markdown",
   "metadata": {
    "id": "WkzHb0X7jctQ"
   },
   "source": [
    "### Process data"
   ]
  },
  {
   "cell_type": "code",
   "execution_count": 8,
   "metadata": {
    "colab": {
     "base_uri": "https://localhost:8080/",
     "height": 153,
     "referenced_widgets": [
      "3aebbfb9196a44588a8e72729ed6a7bc",
      "be127f261515421bb5221be3f6110758",
      "6057959575d1464f952a519d1f04da00",
      "73cc9a69764c4c3b94d8f82f1d176b12",
      "dead159e6f0149179e017c9613b5f82d",
      "fa84d70ee8774255b0c61f59f3628cea",
      "61f4324124d14577b8ef3c06b2468706",
      "de9ba3dd854249fca692745ed6765cff",
      "5081b72adc2642b28a3c1bd848b6a152",
      "77e23616d8e1452c9df93e8d4b6e7ef8",
      "4bb80f90c40841e6aeeec89a929ad97b",
      "3ea435a1cbd44ab485fdf33a0f0e8964",
      "334653b20a944f4cb556e72d62a27900",
      "6c33b05305574ccd80c41765c0e8fd24",
      "0bc6f788403f443ca7fe0367d6bf8000",
      "8c93bddf3dd5415b83b6af73d2c2410b",
      "991fe13437024328b5b1fd6173157381",
      "9a1314f4bc86410185c414860f4131a7",
      "e57c34d801b24a849b90bcad6fc6183d",
      "1a2d85572cb74f7dad79fdf163648496",
      "593655ae5ff34112921a1f3571bb24b1",
      "0f4ba1e42c01416fb9a3dfa22d30c37b"
     ]
    },
    "id": "7vw_ijIOGWYG",
    "outputId": "cda0ceb7-7ed8-40cf-b620-e7a2c68868b1"
   },
   "outputs": [
    {
     "name": "stderr",
     "output_type": "stream",
     "text": [
      "Some weights of BertForTokenClassification were not initialized from the model checkpoint at bert-base-multilingual-cased and are newly initialized: ['classifier.bias', 'classifier.weight']\n",
      "You should probably TRAIN this model on a down-stream task to be able to use it for predictions and inference.\n",
      "Map: 100%|██████████| 5949/5949 [00:01<00:00, 3136.36 examples/s]\n",
      "Map: 100%|██████████| 1488/1488 [00:00<00:00, 3202.02 examples/s]"
     ]
    },
    {
     "name": "stdout",
     "output_type": "stream",
     "text": [
      "{'tokens': ['Tàu thuyền', 'hoạt động', 'trong', 'các', 'vùng', 'nguy hiểm', 'này', 'có', 'khả năng', 'chịu', 'tác động', 'của', 'giông', ',', 'lốc', ',', 'gió', 'mạnh', ',', 'sóng', 'lớn.Từ', 'đầu', 'năm', 'đến', 'nay', ',', 'Biển Đông', 'xuất hiện', '8', 'cơn', 'bão', '.'], 'ner_tags': ['O', 'O', 'O', 'O', 'O', 'O', 'O', 'O', 'O', 'O', 'O', 'O', 'O', 'O', 'O', 'O', 'O', 'O', 'O', 'O', 'O', 'O', 'O', 'O', 'O', 'O', 'B-LOC', 'O', 'O', 'O', 'O', 'O'], 'labels': [-100, 0, 0, 0, 0, 0, 0, 0, 0, 0, 0, 0, 0, 0, 0, 0, 0, 0, 0, 0, 0, 0, 0, 0, 0, 0, 0, 0, 0, 0, 0, 0, 0, 0, 0, 0, 0, 5, 5, 5, 0, 0, 0, 0, 0, 0, 0, -100, -100, -100, -100, -100, -100, -100, -100, -100, -100, -100, -100, -100, -100, -100, -100, -100, -100, -100, -100, -100, -100, -100, -100, -100, -100, -100, -100, -100, -100, -100, -100, -100, -100, -100, -100, -100, -100, -100, -100, -100, -100, -100, -100, -100, -100, -100, -100, -100, -100, -100, -100, -100, -100, -100, -100, -100, -100, -100, -100, -100, -100, -100, -100, -100, -100, -100, -100, -100, -100, -100, -100, -100, -100, -100, -100, -100, -100, -100, -100, -100], 'input_ids': [101, 157, 110585, 89789, 21364, 13254, 10504, 10792, 15273, 75578, 74275, 10789, 10601, 35559, 20046, 47945, 17976, 13254, 10447, 38356, 32276, 117, 180, 48935, 117, 100555, 29172, 117, 52644, 15731, 119, 29341, 11201, 10558, 12002, 21537, 117, 31156, 47941, 20053, 14930, 13526, 129, 16579, 10115, 84394, 119, 102, 0, 0, 0, 0, 0, 0, 0, 0, 0, 0, 0, 0, 0, 0, 0, 0, 0, 0, 0, 0, 0, 0, 0, 0, 0, 0, 0, 0, 0, 0, 0, 0, 0, 0, 0, 0, 0, 0, 0, 0, 0, 0, 0, 0, 0, 0, 0, 0, 0, 0, 0, 0, 0, 0, 0, 0, 0, 0, 0, 0, 0, 0, 0, 0, 0, 0, 0, 0, 0, 0, 0, 0, 0, 0, 0, 0, 0, 0, 0, 0], 'token_type_ids': [0, 0, 0, 0, 0, 0, 0, 0, 0, 0, 0, 0, 0, 0, 0, 0, 0, 0, 0, 0, 0, 0, 0, 0, 0, 0, 0, 0, 0, 0, 0, 0, 0, 0, 0, 0, 0, 0, 0, 0, 0, 0, 0, 0, 0, 0, 0, 0, 0, 0, 0, 0, 0, 0, 0, 0, 0, 0, 0, 0, 0, 0, 0, 0, 0, 0, 0, 0, 0, 0, 0, 0, 0, 0, 0, 0, 0, 0, 0, 0, 0, 0, 0, 0, 0, 0, 0, 0, 0, 0, 0, 0, 0, 0, 0, 0, 0, 0, 0, 0, 0, 0, 0, 0, 0, 0, 0, 0, 0, 0, 0, 0, 0, 0, 0, 0, 0, 0, 0, 0, 0, 0, 0, 0, 0, 0, 0, 0], 'attention_mask': [1, 1, 1, 1, 1, 1, 1, 1, 1, 1, 1, 1, 1, 1, 1, 1, 1, 1, 1, 1, 1, 1, 1, 1, 1, 1, 1, 1, 1, 1, 1, 1, 1, 1, 1, 1, 1, 1, 1, 1, 1, 1, 1, 1, 1, 1, 1, 1, 0, 0, 0, 0, 0, 0, 0, 0, 0, 0, 0, 0, 0, 0, 0, 0, 0, 0, 0, 0, 0, 0, 0, 0, 0, 0, 0, 0, 0, 0, 0, 0, 0, 0, 0, 0, 0, 0, 0, 0, 0, 0, 0, 0, 0, 0, 0, 0, 0, 0, 0, 0, 0, 0, 0, 0, 0, 0, 0, 0, 0, 0, 0, 0, 0, 0, 0, 0, 0, 0, 0, 0, 0, 0, 0, 0, 0, 0, 0, 0]}\n"
     ]
    },
    {
     "name": "stderr",
     "output_type": "stream",
     "text": [
      "\n"
     ]
    }
   ],
   "source": [
    "from transformers import AutoTokenizer, AutoModelForTokenClassification\n",
    "#mô hình pretrained\n",
    "model_name = \"bert-base-multilingual-cased\"\n",
    "tokenizer = AutoTokenizer.from_pretrained(model_name)\n",
    "model = AutoModelForTokenClassification.from_pretrained(model_name, num_labels=len(label_list))\n",
    "\n",
    "# Tokenize\n",
    "def tokenize_and_align_labels(examples):\n",
    "    # Tokenize words\n",
    "    tokenized_inputs = tokenizer(\n",
    "        examples[\"tokens\"],\n",
    "        truncation=True,\n",
    "        padding=True,\n",
    "        is_split_into_words=True,\n",
    "        max_length=128\n",
    "    )\n",
    "\n",
    "    labels = []\n",
    "    for i, label in enumerate(examples[\"ner_tags\"]):\n",
    "        word_ids = tokenized_inputs.word_ids(batch_index=i)  # ID of words\n",
    "\n",
    "        # Label it with the corresponding word and use -100 for padding or special tokens\n",
    "        label_ids = []\n",
    "        for word_id in word_ids:\n",
    "            if word_id is None:  #not word\n",
    "                label_ids.append(-100)\n",
    "            else:\n",
    "                label_ids.append(label_to_id[label[word_id]])  # label for word\n",
    "        labels.append(label_ids)\n",
    "\n",
    "    tokenized_inputs[\"labels\"] = labels\n",
    "    return tokenized_inputs\n",
    "\n",
    "# Apply tokenization to the training and test sets\n",
    "train_data = train_data.map(tokenize_and_align_labels, batched=True)\n",
    "test_data = test_data.map(tokenize_and_align_labels, batched=True)\n",
    "\n",
    "# Kiểm tra một ví dụ dữ liệu\n",
    "print(train_data[0])\n"
   ]
  },
  {
   "cell_type": "markdown",
   "metadata": {
    "id": "DhysH1YTi5Kb"
   },
   "source": [
    "### Function to Evaluate model"
   ]
  },
  {
   "cell_type": "code",
   "execution_count": 7,
   "metadata": {},
   "outputs": [],
   "source": [
    "from sklearn.metrics import classification_report, accuracy_score\n",
    "\n",
    "def compute_metrics(p):\n",
    "    predictions, labels = p\n",
    "    predictions = predictions.argmax(axis=2)  # Lấy nhãn dự đoán từ logits\n",
    "\n",
    "    # Chuyển đổi nhãn từ ID sang tên nhãn\n",
    "    true_labels = [[id_to_label[l] for l in label if l != -100] for label in labels]\n",
    "    pred_labels = [[id_to_label[p] for (p, l) in zip(pred, label) if l != -100] for pred, label in zip(predictions, labels)]\n",
    "\n",
    "    # Flatten danh sách các nhãn\n",
    "    flat_true_labels = [label for sublist in true_labels for label in sublist]\n",
    "    flat_pred_labels = [label for sublist in pred_labels for label in sublist]\n",
    "\n",
    "    # Tính toán độ chính xác và các chỉ số khác\n",
    "    report = classification_report(flat_true_labels, flat_pred_labels, output_dict=True, zero_division=1)\n",
    "    accuracy = accuracy_score(flat_true_labels, flat_pred_labels)\n",
    "\n",
    "    return {\n",
    "        \"accuracy\": accuracy,\n",
    "        \"precision\": report[\"macro avg\"][\"precision\"],\n",
    "        \"recall\": report[\"macro avg\"][\"recall\"],\n",
    "        \"f1\": report[\"macro avg\"][\"f1-score\"],\n",
    "    }"
   ]
  },
  {
   "cell_type": "markdown",
   "metadata": {
    "id": "0gee5aD-jkzW"
   },
   "source": [
    "## Train model"
   ]
  },
  {
   "cell_type": "markdown",
   "metadata": {
    "id": "J6DQSP95m3zk"
   },
   "source": [
    "### **The model has been trained**"
   ]
  },
  {
   "cell_type": "code",
   "execution_count": 44,
   "metadata": {
    "colab": {
     "base_uri": "https://localhost:8080/",
     "height": 485
    },
    "id": "O3vterkoJv3G",
    "outputId": "b21e464f-9123-4f0b-abc3-1510861556e2"
   },
   "outputs": [
    {
     "name": "stderr",
     "output_type": "stream",
     "text": [
      "/usr/local/lib/python3.10/dist-packages/transformers/training_args.py:1568: FutureWarning: `evaluation_strategy` is deprecated and will be removed in version 4.46 of 🤗 Transformers. Use `eval_strategy` instead\n",
      "  warnings.warn(\n",
      "Using the `WANDB_DISABLED` environment variable is deprecated and will be removed in v5. Use the --report_to flag to control the integrations used for logging result (for instance --report_to none).\n"
     ]
    },
    {
     "data": {
      "text/html": [
       "\n",
       "    <div>\n",
       "      \n",
       "      <progress value='2232' max='2232' style='width:300px; height:20px; vertical-align: middle;'></progress>\n",
       "      [2232/2232 07:15, Epoch 3/3]\n",
       "    </div>\n",
       "    <table border=\"1\" class=\"dataframe\">\n",
       "  <thead>\n",
       " <tr style=\"text-align: left;\">\n",
       "      <th>Epoch</th>\n",
       "      <th>Training Loss</th>\n",
       "      <th>Validation Loss</th>\n",
       "      <th>Accuracy</th>\n",
       "      <th>Precision</th>\n",
       "      <th>Recall</th>\n",
       "      <th>F1</th>\n",
       "    </tr>\n",
       "  </thead>\n",
       "  <tbody>\n",
       "    <tr>\n",
       "      <td>1</td>\n",
       "      <td>0.142400</td>\n",
       "      <td>0.095661</td>\n",
       "      <td>0.971374</td>\n",
       "      <td>0.724338</td>\n",
       "      <td>0.675784</td>\n",
       "      <td>0.679329</td>\n",
       "    </tr>\n",
       "    <tr>\n",
       "      <td>2</td>\n",
       "      <td>0.089900</td>\n",
       "      <td>0.082875</td>\n",
       "      <td>0.976432</td>\n",
       "      <td>0.780214</td>\n",
       "      <td>0.706150</td>\n",
       "      <td>0.729244</td>\n",
       "    </tr>\n",
       "    <tr>\n",
       "      <td>3</td>\n",
       "      <td>0.050300</td>\n",
       "      <td>0.084963</td>\n",
       "      <td>0.975760</td>\n",
       "      <td>0.867934</td>\n",
       "      <td>0.731908</td>\n",
       "      <td>0.748887</td>\n",
       "    </tr>\n",
       "  </tbody>\n",
       "</table><p>"
      ],
      "text/plain": [
       "<IPython.core.display.HTML object>"
      ]
     },
     "metadata": {},
     "output_type": "display_data"
    },
    {
     "name": "stderr",
     "output_type": "stream",
     "text": [
      "/usr/local/lib/python3.10/dist-packages/sklearn/metrics/_classification.py:1531: UndefinedMetricWarning: Precision is ill-defined and being set to 0.0 in labels with no predicted samples. Use `zero_division` parameter to control this behavior.\n",
      "  _warn_prf(average, modifier, f\"{metric.capitalize()} is\", len(result))\n",
      "/usr/local/lib/python3.10/dist-packages/sklearn/metrics/_classification.py:1531: UndefinedMetricWarning: Precision is ill-defined and being set to 0.0 in labels with no predicted samples. Use `zero_division` parameter to control this behavior.\n",
      "  _warn_prf(average, modifier, f\"{metric.capitalize()} is\", len(result))\n",
      "/usr/local/lib/python3.10/dist-packages/sklearn/metrics/_classification.py:1531: UndefinedMetricWarning: Precision is ill-defined and being set to 0.0 in labels with no predicted samples. Use `zero_division` parameter to control this behavior.\n",
      "  _warn_prf(average, modifier, f\"{metric.capitalize()} is\", len(result))\n",
      "/usr/local/lib/python3.10/dist-packages/sklearn/metrics/_classification.py:1531: UndefinedMetricWarning: Precision is ill-defined and being set to 0.0 in labels with no predicted samples. Use `zero_division` parameter to control this behavior.\n",
      "  _warn_prf(average, modifier, f\"{metric.capitalize()} is\", len(result))\n",
      "/usr/local/lib/python3.10/dist-packages/sklearn/metrics/_classification.py:1531: UndefinedMetricWarning: Precision is ill-defined and being set to 0.0 in labels with no predicted samples. Use `zero_division` parameter to control this behavior.\n",
      "  _warn_prf(average, modifier, f\"{metric.capitalize()} is\", len(result))\n",
      "/usr/local/lib/python3.10/dist-packages/sklearn/metrics/_classification.py:1531: UndefinedMetricWarning: Precision is ill-defined and being set to 0.0 in labels with no predicted samples. Use `zero_division` parameter to control this behavior.\n",
      "  _warn_prf(average, modifier, f\"{metric.capitalize()} is\", len(result))\n"
     ]
    },
    {
     "data": {
      "text/plain": [
       "TrainOutput(global_step=2232, training_loss=0.08555971764321822, metrics={'train_runtime': 435.7074, 'train_samples_per_second': 40.961, 'train_steps_per_second': 5.123, 'total_flos': 1165914586434816.0, 'train_loss': 0.08555971764321822, 'epoch': 3.0})"
      ]
     },
     "execution_count": 44,
     "metadata": {},
     "output_type": "execute_result"
    }
   ],
   "source": [
    "from transformers import Trainer, TrainingArguments\n",
    "\n",
    "training_args = TrainingArguments(\n",
    "    output_dir=\"./results\",\n",
    "    evaluation_strategy=\"epoch\",\n",
    "    learning_rate=2e-5,\n",
    "    per_device_train_batch_size=8,\n",
    "    per_device_eval_batch_size=8,\n",
    "    num_train_epochs=3,\n",
    "    weight_decay=0.01,\n",
    "    report_to=None,\n",
    "    no_cuda=False,\n",
    "    fp16=True,\n",
    "    logging_dir=\"./logs\",\n",
    "    logging_steps=500,\n",
    ")\n",
    "\n",
    "trainer = Trainer(\n",
    "    model=model,\n",
    "    args=training_args,\n",
    "    train_dataset=train_data,\n",
    "    eval_dataset=test_data,\n",
    "    compute_metrics=compute_metrics,\n",
    ")\n",
    "\n",
    "\n",
    "trainer.train()\n",
    "\n",
    "# Đánh giá mô hình trên tập kiểm tra\n",
    "# eval_results = trainer.evaluate()\n",
    "\n"
   ]
  },
  {
   "cell_type": "markdown",
   "metadata": {
    "id": "18zer5k8nC6I"
   },
   "source": [
    "### **Corrected a few warnings to complete the model**"
   ]
  },
  {
   "cell_type": "code",
   "execution_count": 48,
   "metadata": {
    "colab": {
     "base_uri": "https://localhost:8080/",
     "height": 242
    },
    "id": "tKyLtwIPloso",
    "outputId": "08091495-5643-4b1c-d6de-e35f5675cd7d"
   },
   "outputs": [
    {
     "name": "stderr",
     "output_type": "stream",
     "text": [
      "Using the `WANDB_DISABLED` environment variable is deprecated and will be removed in v5. Use the --report_to flag to control the integrations used for logging result (for instance --report_to none).\n"
     ]
    },
    {
     "data": {
      "text/html": [
       "\n",
       "    <div>\n",
       "      \n",
       "      <progress value='2232' max='2232' style='width:300px; height:20px; vertical-align: middle;'></progress>\n",
       "      [2232/2232 07:08, Epoch 3/3]\n",
       "    </div>\n",
       "    <table border=\"1\" class=\"dataframe\">\n",
       "  <thead>\n",
       " <tr style=\"text-align: left;\">\n",
       "      <th>Epoch</th>\n",
       "      <th>Training Loss</th>\n",
       "      <th>Validation Loss</th>\n",
       "      <th>Accuracy</th>\n",
       "      <th>Precision</th>\n",
       "      <th>Recall</th>\n",
       "      <th>F1</th>\n",
       "    </tr>\n",
       "  </thead>\n",
       "  <tbody>\n",
       "    <tr>\n",
       "      <td>1</td>\n",
       "      <td>0.042700</td>\n",
       "      <td>0.098655</td>\n",
       "      <td>0.976208</td>\n",
       "      <td>0.818290</td>\n",
       "      <td>0.778955</td>\n",
       "      <td>0.789776</td>\n",
       "    </tr>\n",
       "    <tr>\n",
       "      <td>2</td>\n",
       "      <td>0.035900</td>\n",
       "      <td>0.104832</td>\n",
       "      <td>0.975666</td>\n",
       "      <td>0.821237</td>\n",
       "      <td>0.782935</td>\n",
       "      <td>0.796586</td>\n",
       "    </tr>\n",
       "    <tr>\n",
       "      <td>3</td>\n",
       "      <td>0.016700</td>\n",
       "      <td>0.114980</td>\n",
       "      <td>0.976350</td>\n",
       "      <td>0.837258</td>\n",
       "      <td>0.804793</td>\n",
       "      <td>0.813246</td>\n",
       "    </tr>\n",
       "  </tbody>\n",
       "</table><p>"
      ],
      "text/plain": [
       "<IPython.core.display.HTML object>"
      ]
     },
     "metadata": {},
     "output_type": "display_data"
    },
    {
     "data": {
      "text/plain": [
       "TrainOutput(global_step=2232, training_loss=0.02988650935525108, metrics={'train_runtime': 428.9856, 'train_samples_per_second': 41.603, 'train_steps_per_second': 5.203, 'total_flos': 1165914586434816.0, 'train_loss': 0.02988650935525108, 'epoch': 3.0})"
      ]
     },
     "execution_count": 48,
     "metadata": {},
     "output_type": "execute_result"
    }
   ],
   "source": [
    "from transformers import Trainer, TrainingArguments\n",
    "\n",
    "training_args = TrainingArguments(\n",
    "    output_dir=\"./results\",\n",
    "    eval_strategy=\"epoch\",\n",
    "    learning_rate=2e-5,\n",
    "    per_device_train_batch_size=8,\n",
    "    per_device_eval_batch_size=8,\n",
    "    num_train_epochs=3,\n",
    "    weight_decay=0.01,\n",
    "    report_to=None,\n",
    "    no_cuda=False,\n",
    "    fp16=True,\n",
    "    logging_dir=\"./logs\",\n",
    "    logging_steps=500,\n",
    ")\n",
    "\n",
    "trainer = Trainer(\n",
    "    model=model,\n",
    "    args=training_args,\n",
    "    train_dataset=train_data,\n",
    "    eval_dataset=test_data,\n",
    "    compute_metrics=compute_metrics,\n",
    ")\n",
    "\n",
    "\n",
    "trainer.train()\n",
    "\n",
    "# Đánh giá mô hình trên tập kiểm tra\n",
    "# eval_results = trainer.evaluate()\n",
    "\n"
   ]
  },
  {
   "cell_type": "code",
   "execution_count": 51,
   "metadata": {
    "colab": {
     "base_uri": "https://localhost:8080/"
    },
    "id": "TGmUl3rQoNhD",
    "outputId": "779ef554-2cd4-4728-b917-59bf98d6a740"
   },
   "outputs": [
    {
     "data": {
      "text/plain": [
       "('./saved_model_transformer_T2/tokenizer_config.json',\n",
       " './saved_model_transformer_T2/special_tokens_map.json',\n",
       " './saved_model_transformer_T2/vocab.txt',\n",
       " './saved_model_transformer_T2/added_tokens.json',\n",
       " './saved_model_transformer_T2/tokenizer.json')"
      ]
     },
     "execution_count": 51,
     "metadata": {},
     "output_type": "execute_result"
    }
   ],
   "source": [
    "# Save model\n",
    "model.save_pretrained(\"./saved_model_transformer_T2\")\n",
    "tokenizer.save_pretrained(\"./saved_model_transformer_T2\")\n"
   ]
  },
  {
   "cell_type": "markdown",
   "metadata": {
    "id": "6sPnumD8pkeg"
   },
   "source": [
    "## **Reuse the trained model to test the data (Run here if having model)**\n"
   ]
  },
  {
   "cell_type": "code",
   "execution_count": 13,
   "metadata": {
    "id": "CqpwQ82EpEMz"
   },
   "outputs": [],
   "source": [
    "from transformers import AutoModelForTokenClassification, AutoTokenizer\n",
    "import torch\n",
    "\n",
    "# Load the trained model and tokenizer\n",
    "model = AutoModelForTokenClassification.from_pretrained(\"./saved_model_transformer_T2\")\n",
    "tokenizer = AutoTokenizer.from_pretrained(\"./saved_model_transformer_T2\")\n",
    "\n",
    "# Đảm bảo rằng mô hình và dữ liệu được tải lên GPU (nếu có)\n",
    "device = torch.device(\"cuda\" if torch.cuda.is_available() else \"cpu\")\n",
    "model.to(device)\n",
    "\n",
    "# Hàm extract_information sử dụng mô hình đã huấn luyện\n",
    "def extract_information(sentence):\n",
    "    # Tokenize sentence\n",
    "    tokenized_inputs = tokenizer(\n",
    "        [sentence],  # Input là một câu\n",
    "        is_split_into_words=False,\n",
    "        return_tensors=\"pt\",\n",
    "        padding=True,\n",
    "        truncation=True,\n",
    "        max_length=128\n",
    "    )\n",
    "\n",
    "    # Tensor for device\n",
    "    tokenized_inputs = {key: value.to(device) for key, value in tokenized_inputs.items()}\n",
    "\n",
    "    # predict label\n",
    "    with torch.no_grad():\n",
    "        outputs = model(**tokenized_inputs)\n",
    "\n",
    "    predictions = outputs.logits.argmax(axis=2)\n",
    "\n",
    "    # ID to label\n",
    "    tokens = tokenizer.convert_ids_to_tokens(tokenized_inputs['input_ids'][0])\n",
    "    pred_labels = [id_to_label[p.item()] for p in predictions[0]]\n",
    "\n",
    "    # Filter data\n",
    "    extracted_info = []\n",
    "    for token, label in zip(tokens, pred_labels):\n",
    "        if label != \"O\":  # Bỏ qua các token không có nhãn\n",
    "            extracted_info.append((token, label))\n",
    "\n",
    "    result = {}\n",
    "    for token, label in extracted_info:\n",
    "        entity_type = label.split(\"-\")[-1]  # Bỏ tiền tố B- hoặc I-\n",
    "        if entity_type not in result:\n",
    "            result[entity_type] = []\n",
    "        result[entity_type].append(token)\n",
    "\n",
    "    return result\n",
    "\n",
    "# Hàm xử lý các câu để in ra kết quả\n",
    "def process_sentences(sentences):\n",
    "    for idx, sentence in enumerate(sentences, 1):\n",
    "        print(f\"Sentence {idx}: {sentence}\")\n",
    "        result = extract_information(sentence)\n",
    "        output = []\n",
    "        for entity_type, entities in result.items():\n",
    "            output.append(f\"<{entity_type}> {' '.join(entities)}\")\n",
    "        print(\" \".join(output))\n",
    "        print(\"-\" * 50)\n",
    "\n"
   ]
  },
  {
   "cell_type": "code",
   "execution_count": 14,
   "metadata": {
    "colab": {
     "base_uri": "https://localhost:8080/"
    },
    "id": "TfjiIWolpK0q",
    "outputId": "691ae208-4a8e-496d-8f92-bf5312e13376"
   },
   "outputs": [
    {
     "name": "stdout",
     "output_type": "stream",
     "text": [
      "Sentence 1: Ông Nguyễn Văn An là một giáo viên tại trường Đại học Bách Khoa Thành phố Hồ Chí Minh.\n",
      "<PER> Nguyễn Văn An <ORG> trường Đại học B ##ách Khoa Thành phố Hồ Chí Minh\n",
      "--------------------------------------------------\n",
      "Sentence 2: Hà Nội là thủ đô của Việt Nam.\n",
      "<LOC> Hà Nội Việt Nam\n",
      "--------------------------------------------------\n",
      "Sentence 3: Công ty FPT Technology là một trong những công ty công nghệ lớn nhất ở Việt Nam.\n",
      "<ORG> Công ty F ##P ##T Technology <LOC> Việt Nam\n",
      "--------------------------------------------------\n",
      "Sentence 4: Sự kiện Techfest 2024 sẽ diễn ra tại Hà Nội.\n",
      "<LOC> Hà Nội\n",
      "--------------------------------------------------\n",
      "Sentence 5: Facebook đã mở văn phòng mới tại Singapore.\n",
      "<LOC> Singapore\n",
      "--------------------------------------------------\n",
      "Sentence 6: Bà Nguyễn Thị Mai Châu là giám đốc của ngân hàng Techcombank.\n",
      "<PER> Nguyễn Thị Mai Châu <ORG> Tech ##com ##bank\n",
      "--------------------------------------------------\n",
      "Sentence 7: Thái Lan và Việt Nam sẽ thi đấu tại sân vận động Mỹ Đình.\n",
      "<LOC> Thái Lan Việt Nam sân vận động Mỹ Đình\n",
      "--------------------------------------------------\n",
      "Sentence 8: Ông Nguyễn Văn Bé vừa được trao giải thưởng sáng tạo của năm.\n",
      "<PER> Nguyễn Văn B ##é\n",
      "--------------------------------------------------\n",
      "Sentence 9: Trời hôm nay đẹp và có nắng.\n",
      "\n",
      "--------------------------------------------------\n",
      "Sentence 10: Vào năm 2025, Google sẽ mở thêm một văn phòng tại thành phố Hồ Chí Minh và có kế hoạch hợp tác với Đại học Quốc gia Hà Nội.\n",
      "<ORG> Google Đại học Quốc gia Hà Nội <LOC> thành phố Hồ Chí Minh\n",
      "--------------------------------------------------\n"
     ]
    }
   ],
   "source": [
    "test_sentences = [\n",
    "    \"Ông Nguyễn Văn An là một giáo viên tại trường Đại học Bách Khoa Thành phố Hồ Chí Minh.\",\n",
    "    \"Hà Nội là thủ đô của Việt Nam.\",\n",
    "    \"Công ty FPT Technology là một trong những công ty công nghệ lớn nhất ở Việt Nam.\",\n",
    "    \"Sự kiện Techfest 2024 sẽ diễn ra tại Hà Nội.\",\n",
    "    \"Facebook đã mở văn phòng mới tại Singapore.\",\n",
    "    \"Bà Nguyễn Thị Mai Châu là giám đốc của ngân hàng Techcombank.\",\n",
    "    \"Thái Lan và Việt Nam sẽ thi đấu tại sân vận động Mỹ Đình.\",\n",
    "    \"Ông Nguyễn Văn Bé vừa được trao giải thưởng sáng tạo của năm.\",\n",
    "    \"Trời hôm nay đẹp và có nắng.\",\n",
    "    \"Vào năm 2025, Google sẽ mở thêm một văn phòng tại thành phố Hồ Chí Minh và có kế hoạch hợp tác với Đại học Quốc gia Hà Nội.\"\n",
    "]\n",
    "\n",
    "process_sentences(test_sentences)"
   ]
  }
 ],
 "metadata": {
  "accelerator": "GPU",
  "colab": {
   "collapsed_sections": [
    "p4gQkhaowQKw",
    "zGTRw7EswVEd",
    "7N6oOgiGwrsA",
    "svbYvZjOyCNH",
    "mXChBqL5-uZD",
    "HD8npg4zdRua",
    "j7sUPThlGTYW",
    "4l945yjyhdGi",
    "P-hg56-mimRv",
    "WkzHb0X7jctQ",
    "DhysH1YTi5Kb",
    "0gee5aD-jkzW",
    "J6DQSP95m3zk",
    "18zer5k8nC6I",
    "6sPnumD8pkeg"
   ],
   "gpuType": "T4",
   "provenance": []
  },
  "kernelspec": {
   "display_name": "Python 3",
   "name": "python3"
  },
  "language_info": {
   "codemirror_mode": {
    "name": "ipython",
    "version": 3
   },
   "file_extension": ".py",
   "mimetype": "text/x-python",
   "name": "python",
   "nbconvert_exporter": "python",
   "pygments_lexer": "ipython3",
   "version": "3.11.9"
  },
  "widgets": {
   "application/vnd.jupyter.widget-state+json": {
    "0100b5eeb0fa4ef8ba52ae59b24ffbf0": {
     "model_module": "@jupyter-widgets/base",
     "model_module_version": "1.2.0",
     "model_name": "LayoutModel",
     "state": {
      "_model_module": "@jupyter-widgets/base",
      "_model_module_version": "1.2.0",
      "_model_name": "LayoutModel",
      "_view_count": null,
      "_view_module": "@jupyter-widgets/base",
      "_view_module_version": "1.2.0",
      "_view_name": "LayoutView",
      "align_content": null,
      "align_items": null,
      "align_self": null,
      "border": null,
      "bottom": null,
      "display": null,
      "flex": null,
      "flex_flow": null,
      "grid_area": null,
      "grid_auto_columns": null,
      "grid_auto_flow": null,
      "grid_auto_rows": null,
      "grid_column": null,
      "grid_gap": null,
      "grid_row": null,
      "grid_template_areas": null,
      "grid_template_columns": null,
      "grid_template_rows": null,
      "height": null,
      "justify_content": null,
      "justify_items": null,
      "left": null,
      "margin": null,
      "max_height": null,
      "max_width": null,
      "min_height": null,
      "min_width": null,
      "object_fit": null,
      "object_position": null,
      "order": null,
      "overflow": null,
      "overflow_x": null,
      "overflow_y": null,
      "padding": null,
      "right": null,
      "top": null,
      "visibility": null,
      "width": null
     }
    },
    "085c30b5b9fd406aa761a917d2f181fc": {
     "model_module": "@jupyter-widgets/base",
     "model_module_version": "1.2.0",
     "model_name": "LayoutModel",
     "state": {
      "_model_module": "@jupyter-widgets/base",
      "_model_module_version": "1.2.0",
      "_model_name": "LayoutModel",
      "_view_count": null,
      "_view_module": "@jupyter-widgets/base",
      "_view_module_version": "1.2.0",
      "_view_name": "LayoutView",
      "align_content": null,
      "align_items": null,
      "align_self": null,
      "border": null,
      "bottom": null,
      "display": null,
      "flex": null,
      "flex_flow": null,
      "grid_area": null,
      "grid_auto_columns": null,
      "grid_auto_flow": null,
      "grid_auto_rows": null,
      "grid_column": null,
      "grid_gap": null,
      "grid_row": null,
      "grid_template_areas": null,
      "grid_template_columns": null,
      "grid_template_rows": null,
      "height": null,
      "justify_content": null,
      "justify_items": null,
      "left": null,
      "margin": null,
      "max_height": null,
      "max_width": null,
      "min_height": null,
      "min_width": null,
      "object_fit": null,
      "object_position": null,
      "order": null,
      "overflow": null,
      "overflow_x": null,
      "overflow_y": null,
      "padding": null,
      "right": null,
      "top": null,
      "visibility": null,
      "width": null
     }
    },
    "093ddbf441824993a87580928d0de389": {
     "model_module": "@jupyter-widgets/controls",
     "model_module_version": "1.5.0",
     "model_name": "DescriptionStyleModel",
     "state": {
      "_model_module": "@jupyter-widgets/controls",
      "_model_module_version": "1.5.0",
      "_model_name": "DescriptionStyleModel",
      "_view_count": null,
      "_view_module": "@jupyter-widgets/base",
      "_view_module_version": "1.2.0",
      "_view_name": "StyleView",
      "description_width": ""
     }
    },
    "0bc6f788403f443ca7fe0367d6bf8000": {
     "model_module": "@jupyter-widgets/controls",
     "model_module_version": "1.5.0",
     "model_name": "HTMLModel",
     "state": {
      "_dom_classes": [],
      "_model_module": "@jupyter-widgets/controls",
      "_model_module_version": "1.5.0",
      "_model_name": "HTMLModel",
      "_view_count": null,
      "_view_module": "@jupyter-widgets/controls",
      "_view_module_version": "1.5.0",
      "_view_name": "HTMLView",
      "description": "",
      "description_tooltip": null,
      "layout": "IPY_MODEL_593655ae5ff34112921a1f3571bb24b1",
      "placeholder": "​",
      "style": "IPY_MODEL_0f4ba1e42c01416fb9a3dfa22d30c37b",
      "value": " 1488/1488 [00:01&lt;00:00, 1284.22 examples/s]"
     }
    },
    "0f4ba1e42c01416fb9a3dfa22d30c37b": {
     "model_module": "@jupyter-widgets/controls",
     "model_module_version": "1.5.0",
     "model_name": "DescriptionStyleModel",
     "state": {
      "_model_module": "@jupyter-widgets/controls",
      "_model_module_version": "1.5.0",
      "_model_name": "DescriptionStyleModel",
      "_view_count": null,
      "_view_module": "@jupyter-widgets/base",
      "_view_module_version": "1.2.0",
      "_view_name": "StyleView",
      "description_width": ""
     }
    },
    "1a2d85572cb74f7dad79fdf163648496": {
     "model_module": "@jupyter-widgets/controls",
     "model_module_version": "1.5.0",
     "model_name": "ProgressStyleModel",
     "state": {
      "_model_module": "@jupyter-widgets/controls",
      "_model_module_version": "1.5.0",
      "_model_name": "ProgressStyleModel",
      "_view_count": null,
      "_view_module": "@jupyter-widgets/base",
      "_view_module_version": "1.2.0",
      "_view_name": "StyleView",
      "bar_color": null,
      "description_width": ""
     }
    },
    "1a85bd3fccb84617bcc72b0b3d81d47e": {
     "model_module": "@jupyter-widgets/controls",
     "model_module_version": "1.5.0",
     "model_name": "DescriptionStyleModel",
     "state": {
      "_model_module": "@jupyter-widgets/controls",
      "_model_module_version": "1.5.0",
      "_model_name": "DescriptionStyleModel",
      "_view_count": null,
      "_view_module": "@jupyter-widgets/base",
      "_view_module_version": "1.2.0",
      "_view_name": "StyleView",
      "description_width": ""
     }
    },
    "1bbe064e515342d7882294ebc682b347": {
     "model_module": "@jupyter-widgets/controls",
     "model_module_version": "1.5.0",
     "model_name": "DescriptionStyleModel",
     "state": {
      "_model_module": "@jupyter-widgets/controls",
      "_model_module_version": "1.5.0",
      "_model_name": "DescriptionStyleModel",
      "_view_count": null,
      "_view_module": "@jupyter-widgets/base",
      "_view_module_version": "1.2.0",
      "_view_name": "StyleView",
      "description_width": ""
     }
    },
    "2af27f5593e24252a5c0f0708c9efaa7": {
     "model_module": "@jupyter-widgets/base",
     "model_module_version": "1.2.0",
     "model_name": "LayoutModel",
     "state": {
      "_model_module": "@jupyter-widgets/base",
      "_model_module_version": "1.2.0",
      "_model_name": "LayoutModel",
      "_view_count": null,
      "_view_module": "@jupyter-widgets/base",
      "_view_module_version": "1.2.0",
      "_view_name": "LayoutView",
      "align_content": null,
      "align_items": null,
      "align_self": null,
      "border": null,
      "bottom": null,
      "display": null,
      "flex": null,
      "flex_flow": null,
      "grid_area": null,
      "grid_auto_columns": null,
      "grid_auto_flow": null,
      "grid_auto_rows": null,
      "grid_column": null,
      "grid_gap": null,
      "grid_row": null,
      "grid_template_areas": null,
      "grid_template_columns": null,
      "grid_template_rows": null,
      "height": null,
      "justify_content": null,
      "justify_items": null,
      "left": null,
      "margin": null,
      "max_height": null,
      "max_width": null,
      "min_height": null,
      "min_width": null,
      "object_fit": null,
      "object_position": null,
      "order": null,
      "overflow": null,
      "overflow_x": null,
      "overflow_y": null,
      "padding": null,
      "right": null,
      "top": null,
      "visibility": null,
      "width": null
     }
    },
    "334653b20a944f4cb556e72d62a27900": {
     "model_module": "@jupyter-widgets/controls",
     "model_module_version": "1.5.0",
     "model_name": "HTMLModel",
     "state": {
      "_dom_classes": [],
      "_model_module": "@jupyter-widgets/controls",
      "_model_module_version": "1.5.0",
      "_model_name": "HTMLModel",
      "_view_count": null,
      "_view_module": "@jupyter-widgets/controls",
      "_view_module_version": "1.5.0",
      "_view_name": "HTMLView",
      "description": "",
      "description_tooltip": null,
      "layout": "IPY_MODEL_991fe13437024328b5b1fd6173157381",
      "placeholder": "​",
      "style": "IPY_MODEL_9a1314f4bc86410185c414860f4131a7",
      "value": "Map: 100%"
     }
    },
    "364b09637f1c49b7992f525677ec1597": {
     "model_module": "@jupyter-widgets/controls",
     "model_module_version": "1.5.0",
     "model_name": "HTMLModel",
     "state": {
      "_dom_classes": [],
      "_model_module": "@jupyter-widgets/controls",
      "_model_module_version": "1.5.0",
      "_model_name": "HTMLModel",
      "_view_count": null,
      "_view_module": "@jupyter-widgets/controls",
      "_view_module_version": "1.5.0",
      "_view_name": "HTMLView",
      "description": "",
      "description_tooltip": null,
      "layout": "IPY_MODEL_d8ae509c58254b65bea88e1c6274f735",
      "placeholder": "​",
      "style": "IPY_MODEL_9f1964f0229a4b4c8fbf52ac981a8d87",
      "value": " 5949/5949 [00:02&lt;00:00, 1844.05 examples/s]"
     }
    },
    "39622cf032da40d6bc8fc22e138a9a78": {
     "model_module": "@jupyter-widgets/controls",
     "model_module_version": "1.5.0",
     "model_name": "FloatProgressModel",
     "state": {
      "_dom_classes": [],
      "_model_module": "@jupyter-widgets/controls",
      "_model_module_version": "1.5.0",
      "_model_name": "FloatProgressModel",
      "_view_count": null,
      "_view_module": "@jupyter-widgets/controls",
      "_view_module_version": "1.5.0",
      "_view_name": "ProgressView",
      "bar_style": "success",
      "description": "",
      "description_tooltip": null,
      "layout": "IPY_MODEL_3c78205595ae4eda82c9fadd013e2051",
      "max": 5949,
      "min": 0,
      "orientation": "horizontal",
      "style": "IPY_MODEL_8010aad8193c4105bc853df5163e0b0a",
      "value": 5949
     }
    },
    "3aebbfb9196a44588a8e72729ed6a7bc": {
     "model_module": "@jupyter-widgets/controls",
     "model_module_version": "1.5.0",
     "model_name": "HBoxModel",
     "state": {
      "_dom_classes": [],
      "_model_module": "@jupyter-widgets/controls",
      "_model_module_version": "1.5.0",
      "_model_name": "HBoxModel",
      "_view_count": null,
      "_view_module": "@jupyter-widgets/controls",
      "_view_module_version": "1.5.0",
      "_view_name": "HBoxView",
      "box_style": "",
      "children": [
       "IPY_MODEL_be127f261515421bb5221be3f6110758",
       "IPY_MODEL_6057959575d1464f952a519d1f04da00",
       "IPY_MODEL_73cc9a69764c4c3b94d8f82f1d176b12"
      ],
      "layout": "IPY_MODEL_dead159e6f0149179e017c9613b5f82d"
     }
    },
    "3c78205595ae4eda82c9fadd013e2051": {
     "model_module": "@jupyter-widgets/base",
     "model_module_version": "1.2.0",
     "model_name": "LayoutModel",
     "state": {
      "_model_module": "@jupyter-widgets/base",
      "_model_module_version": "1.2.0",
      "_model_name": "LayoutModel",
      "_view_count": null,
      "_view_module": "@jupyter-widgets/base",
      "_view_module_version": "1.2.0",
      "_view_name": "LayoutView",
      "align_content": null,
      "align_items": null,
      "align_self": null,
      "border": null,
      "bottom": null,
      "display": null,
      "flex": null,
      "flex_flow": null,
      "grid_area": null,
      "grid_auto_columns": null,
      "grid_auto_flow": null,
      "grid_auto_rows": null,
      "grid_column": null,
      "grid_gap": null,
      "grid_row": null,
      "grid_template_areas": null,
      "grid_template_columns": null,
      "grid_template_rows": null,
      "height": null,
      "justify_content": null,
      "justify_items": null,
      "left": null,
      "margin": null,
      "max_height": null,
      "max_width": null,
      "min_height": null,
      "min_width": null,
      "object_fit": null,
      "object_position": null,
      "order": null,
      "overflow": null,
      "overflow_x": null,
      "overflow_y": null,
      "padding": null,
      "right": null,
      "top": null,
      "visibility": null,
      "width": null
     }
    },
    "3ea435a1cbd44ab485fdf33a0f0e8964": {
     "model_module": "@jupyter-widgets/controls",
     "model_module_version": "1.5.0",
     "model_name": "HBoxModel",
     "state": {
      "_dom_classes": [],
      "_model_module": "@jupyter-widgets/controls",
      "_model_module_version": "1.5.0",
      "_model_name": "HBoxModel",
      "_view_count": null,
      "_view_module": "@jupyter-widgets/controls",
      "_view_module_version": "1.5.0",
      "_view_name": "HBoxView",
      "box_style": "",
      "children": [
       "IPY_MODEL_334653b20a944f4cb556e72d62a27900",
       "IPY_MODEL_6c33b05305574ccd80c41765c0e8fd24",
       "IPY_MODEL_0bc6f788403f443ca7fe0367d6bf8000"
      ],
      "layout": "IPY_MODEL_8c93bddf3dd5415b83b6af73d2c2410b"
     }
    },
    "4686fa0c04b948969e72d5ed33b98357": {
     "model_module": "@jupyter-widgets/controls",
     "model_module_version": "1.5.0",
     "model_name": "HTMLModel",
     "state": {
      "_dom_classes": [],
      "_model_module": "@jupyter-widgets/controls",
      "_model_module_version": "1.5.0",
      "_model_name": "HTMLModel",
      "_view_count": null,
      "_view_module": "@jupyter-widgets/controls",
      "_view_module_version": "1.5.0",
      "_view_name": "HTMLView",
      "description": "",
      "description_tooltip": null,
      "layout": "IPY_MODEL_d7451146bb924ddd9879186491ed1cf5",
      "placeholder": "​",
      "style": "IPY_MODEL_1bbe064e515342d7882294ebc682b347",
      "value": "Map: 100%"
     }
    },
    "4bb80f90c40841e6aeeec89a929ad97b": {
     "model_module": "@jupyter-widgets/controls",
     "model_module_version": "1.5.0",
     "model_name": "DescriptionStyleModel",
     "state": {
      "_model_module": "@jupyter-widgets/controls",
      "_model_module_version": "1.5.0",
      "_model_name": "DescriptionStyleModel",
      "_view_count": null,
      "_view_module": "@jupyter-widgets/base",
      "_view_module_version": "1.2.0",
      "_view_name": "StyleView",
      "description_width": ""
     }
    },
    "4d42f4d2090c462a8e2a3c3e7bc3b92a": {
     "model_module": "@jupyter-widgets/controls",
     "model_module_version": "1.5.0",
     "model_name": "HTMLModel",
     "state": {
      "_dom_classes": [],
      "_model_module": "@jupyter-widgets/controls",
      "_model_module_version": "1.5.0",
      "_model_name": "HTMLModel",
      "_view_count": null,
      "_view_module": "@jupyter-widgets/controls",
      "_view_module_version": "1.5.0",
      "_view_name": "HTMLView",
      "description": "",
      "description_tooltip": null,
      "layout": "IPY_MODEL_b77f11bed2a448c6b9dc0f3d7148f6b3",
      "placeholder": "​",
      "style": "IPY_MODEL_093ddbf441824993a87580928d0de389",
      "value": "Map: 100%"
     }
    },
    "5081b72adc2642b28a3c1bd848b6a152": {
     "model_module": "@jupyter-widgets/controls",
     "model_module_version": "1.5.0",
     "model_name": "ProgressStyleModel",
     "state": {
      "_model_module": "@jupyter-widgets/controls",
      "_model_module_version": "1.5.0",
      "_model_name": "ProgressStyleModel",
      "_view_count": null,
      "_view_module": "@jupyter-widgets/base",
      "_view_module_version": "1.2.0",
      "_view_name": "StyleView",
      "bar_color": null,
      "description_width": ""
     }
    },
    "593655ae5ff34112921a1f3571bb24b1": {
     "model_module": "@jupyter-widgets/base",
     "model_module_version": "1.2.0",
     "model_name": "LayoutModel",
     "state": {
      "_model_module": "@jupyter-widgets/base",
      "_model_module_version": "1.2.0",
      "_model_name": "LayoutModel",
      "_view_count": null,
      "_view_module": "@jupyter-widgets/base",
      "_view_module_version": "1.2.0",
      "_view_name": "LayoutView",
      "align_content": null,
      "align_items": null,
      "align_self": null,
      "border": null,
      "bottom": null,
      "display": null,
      "flex": null,
      "flex_flow": null,
      "grid_area": null,
      "grid_auto_columns": null,
      "grid_auto_flow": null,
      "grid_auto_rows": null,
      "grid_column": null,
      "grid_gap": null,
      "grid_row": null,
      "grid_template_areas": null,
      "grid_template_columns": null,
      "grid_template_rows": null,
      "height": null,
      "justify_content": null,
      "justify_items": null,
      "left": null,
      "margin": null,
      "max_height": null,
      "max_width": null,
      "min_height": null,
      "min_width": null,
      "object_fit": null,
      "object_position": null,
      "order": null,
      "overflow": null,
      "overflow_x": null,
      "overflow_y": null,
      "padding": null,
      "right": null,
      "top": null,
      "visibility": null,
      "width": null
     }
    },
    "6057959575d1464f952a519d1f04da00": {
     "model_module": "@jupyter-widgets/controls",
     "model_module_version": "1.5.0",
     "model_name": "FloatProgressModel",
     "state": {
      "_dom_classes": [],
      "_model_module": "@jupyter-widgets/controls",
      "_model_module_version": "1.5.0",
      "_model_name": "FloatProgressModel",
      "_view_count": null,
      "_view_module": "@jupyter-widgets/controls",
      "_view_module_version": "1.5.0",
      "_view_name": "ProgressView",
      "bar_style": "success",
      "description": "",
      "description_tooltip": null,
      "layout": "IPY_MODEL_de9ba3dd854249fca692745ed6765cff",
      "max": 5949,
      "min": 0,
      "orientation": "horizontal",
      "style": "IPY_MODEL_5081b72adc2642b28a3c1bd848b6a152",
      "value": 5949
     }
    },
    "61f4324124d14577b8ef3c06b2468706": {
     "model_module": "@jupyter-widgets/controls",
     "model_module_version": "1.5.0",
     "model_name": "DescriptionStyleModel",
     "state": {
      "_model_module": "@jupyter-widgets/controls",
      "_model_module_version": "1.5.0",
      "_model_name": "DescriptionStyleModel",
      "_view_count": null,
      "_view_module": "@jupyter-widgets/base",
      "_view_module_version": "1.2.0",
      "_view_name": "StyleView",
      "description_width": ""
     }
    },
    "6c33b05305574ccd80c41765c0e8fd24": {
     "model_module": "@jupyter-widgets/controls",
     "model_module_version": "1.5.0",
     "model_name": "FloatProgressModel",
     "state": {
      "_dom_classes": [],
      "_model_module": "@jupyter-widgets/controls",
      "_model_module_version": "1.5.0",
      "_model_name": "FloatProgressModel",
      "_view_count": null,
      "_view_module": "@jupyter-widgets/controls",
      "_view_module_version": "1.5.0",
      "_view_name": "ProgressView",
      "bar_style": "success",
      "description": "",
      "description_tooltip": null,
      "layout": "IPY_MODEL_e57c34d801b24a849b90bcad6fc6183d",
      "max": 1488,
      "min": 0,
      "orientation": "horizontal",
      "style": "IPY_MODEL_1a2d85572cb74f7dad79fdf163648496",
      "value": 1488
     }
    },
    "73cc9a69764c4c3b94d8f82f1d176b12": {
     "model_module": "@jupyter-widgets/controls",
     "model_module_version": "1.5.0",
     "model_name": "HTMLModel",
     "state": {
      "_dom_classes": [],
      "_model_module": "@jupyter-widgets/controls",
      "_model_module_version": "1.5.0",
      "_model_name": "HTMLModel",
      "_view_count": null,
      "_view_module": "@jupyter-widgets/controls",
      "_view_module_version": "1.5.0",
      "_view_name": "HTMLView",
      "description": "",
      "description_tooltip": null,
      "layout": "IPY_MODEL_77e23616d8e1452c9df93e8d4b6e7ef8",
      "placeholder": "​",
      "style": "IPY_MODEL_4bb80f90c40841e6aeeec89a929ad97b",
      "value": " 5949/5949 [00:04&lt;00:00, 1325.33 examples/s]"
     }
    },
    "74bde4be1ca74e22b7dd1c8afad0d8bf": {
     "model_module": "@jupyter-widgets/controls",
     "model_module_version": "1.5.0",
     "model_name": "HBoxModel",
     "state": {
      "_dom_classes": [],
      "_model_module": "@jupyter-widgets/controls",
      "_model_module_version": "1.5.0",
      "_model_name": "HBoxModel",
      "_view_count": null,
      "_view_module": "@jupyter-widgets/controls",
      "_view_module_version": "1.5.0",
      "_view_name": "HBoxView",
      "box_style": "",
      "children": [
       "IPY_MODEL_4d42f4d2090c462a8e2a3c3e7bc3b92a",
       "IPY_MODEL_39622cf032da40d6bc8fc22e138a9a78",
       "IPY_MODEL_364b09637f1c49b7992f525677ec1597"
      ],
      "layout": "IPY_MODEL_2af27f5593e24252a5c0f0708c9efaa7"
     }
    },
    "77e23616d8e1452c9df93e8d4b6e7ef8": {
     "model_module": "@jupyter-widgets/base",
     "model_module_version": "1.2.0",
     "model_name": "LayoutModel",
     "state": {
      "_model_module": "@jupyter-widgets/base",
      "_model_module_version": "1.2.0",
      "_model_name": "LayoutModel",
      "_view_count": null,
      "_view_module": "@jupyter-widgets/base",
      "_view_module_version": "1.2.0",
      "_view_name": "LayoutView",
      "align_content": null,
      "align_items": null,
      "align_self": null,
      "border": null,
      "bottom": null,
      "display": null,
      "flex": null,
      "flex_flow": null,
      "grid_area": null,
      "grid_auto_columns": null,
      "grid_auto_flow": null,
      "grid_auto_rows": null,
      "grid_column": null,
      "grid_gap": null,
      "grid_row": null,
      "grid_template_areas": null,
      "grid_template_columns": null,
      "grid_template_rows": null,
      "height": null,
      "justify_content": null,
      "justify_items": null,
      "left": null,
      "margin": null,
      "max_height": null,
      "max_width": null,
      "min_height": null,
      "min_width": null,
      "object_fit": null,
      "object_position": null,
      "order": null,
      "overflow": null,
      "overflow_x": null,
      "overflow_y": null,
      "padding": null,
      "right": null,
      "top": null,
      "visibility": null,
      "width": null
     }
    },
    "8010aad8193c4105bc853df5163e0b0a": {
     "model_module": "@jupyter-widgets/controls",
     "model_module_version": "1.5.0",
     "model_name": "ProgressStyleModel",
     "state": {
      "_model_module": "@jupyter-widgets/controls",
      "_model_module_version": "1.5.0",
      "_model_name": "ProgressStyleModel",
      "_view_count": null,
      "_view_module": "@jupyter-widgets/base",
      "_view_module_version": "1.2.0",
      "_view_name": "StyleView",
      "bar_color": null,
      "description_width": ""
     }
    },
    "8c93bddf3dd5415b83b6af73d2c2410b": {
     "model_module": "@jupyter-widgets/base",
     "model_module_version": "1.2.0",
     "model_name": "LayoutModel",
     "state": {
      "_model_module": "@jupyter-widgets/base",
      "_model_module_version": "1.2.0",
      "_model_name": "LayoutModel",
      "_view_count": null,
      "_view_module": "@jupyter-widgets/base",
      "_view_module_version": "1.2.0",
      "_view_name": "LayoutView",
      "align_content": null,
      "align_items": null,
      "align_self": null,
      "border": null,
      "bottom": null,
      "display": null,
      "flex": null,
      "flex_flow": null,
      "grid_area": null,
      "grid_auto_columns": null,
      "grid_auto_flow": null,
      "grid_auto_rows": null,
      "grid_column": null,
      "grid_gap": null,
      "grid_row": null,
      "grid_template_areas": null,
      "grid_template_columns": null,
      "grid_template_rows": null,
      "height": null,
      "justify_content": null,
      "justify_items": null,
      "left": null,
      "margin": null,
      "max_height": null,
      "max_width": null,
      "min_height": null,
      "min_width": null,
      "object_fit": null,
      "object_position": null,
      "order": null,
      "overflow": null,
      "overflow_x": null,
      "overflow_y": null,
      "padding": null,
      "right": null,
      "top": null,
      "visibility": null,
      "width": null
     }
    },
    "991fe13437024328b5b1fd6173157381": {
     "model_module": "@jupyter-widgets/base",
     "model_module_version": "1.2.0",
     "model_name": "LayoutModel",
     "state": {
      "_model_module": "@jupyter-widgets/base",
      "_model_module_version": "1.2.0",
      "_model_name": "LayoutModel",
      "_view_count": null,
      "_view_module": "@jupyter-widgets/base",
      "_view_module_version": "1.2.0",
      "_view_name": "LayoutView",
      "align_content": null,
      "align_items": null,
      "align_self": null,
      "border": null,
      "bottom": null,
      "display": null,
      "flex": null,
      "flex_flow": null,
      "grid_area": null,
      "grid_auto_columns": null,
      "grid_auto_flow": null,
      "grid_auto_rows": null,
      "grid_column": null,
      "grid_gap": null,
      "grid_row": null,
      "grid_template_areas": null,
      "grid_template_columns": null,
      "grid_template_rows": null,
      "height": null,
      "justify_content": null,
      "justify_items": null,
      "left": null,
      "margin": null,
      "max_height": null,
      "max_width": null,
      "min_height": null,
      "min_width": null,
      "object_fit": null,
      "object_position": null,
      "order": null,
      "overflow": null,
      "overflow_x": null,
      "overflow_y": null,
      "padding": null,
      "right": null,
      "top": null,
      "visibility": null,
      "width": null
     }
    },
    "9a1314f4bc86410185c414860f4131a7": {
     "model_module": "@jupyter-widgets/controls",
     "model_module_version": "1.5.0",
     "model_name": "DescriptionStyleModel",
     "state": {
      "_model_module": "@jupyter-widgets/controls",
      "_model_module_version": "1.5.0",
      "_model_name": "DescriptionStyleModel",
      "_view_count": null,
      "_view_module": "@jupyter-widgets/base",
      "_view_module_version": "1.2.0",
      "_view_name": "StyleView",
      "description_width": ""
     }
    },
    "9f1964f0229a4b4c8fbf52ac981a8d87": {
     "model_module": "@jupyter-widgets/controls",
     "model_module_version": "1.5.0",
     "model_name": "DescriptionStyleModel",
     "state": {
      "_model_module": "@jupyter-widgets/controls",
      "_model_module_version": "1.5.0",
      "_model_name": "DescriptionStyleModel",
      "_view_count": null,
      "_view_module": "@jupyter-widgets/base",
      "_view_module_version": "1.2.0",
      "_view_name": "StyleView",
      "description_width": ""
     }
    },
    "b77f11bed2a448c6b9dc0f3d7148f6b3": {
     "model_module": "@jupyter-widgets/base",
     "model_module_version": "1.2.0",
     "model_name": "LayoutModel",
     "state": {
      "_model_module": "@jupyter-widgets/base",
      "_model_module_version": "1.2.0",
      "_model_name": "LayoutModel",
      "_view_count": null,
      "_view_module": "@jupyter-widgets/base",
      "_view_module_version": "1.2.0",
      "_view_name": "LayoutView",
      "align_content": null,
      "align_items": null,
      "align_self": null,
      "border": null,
      "bottom": null,
      "display": null,
      "flex": null,
      "flex_flow": null,
      "grid_area": null,
      "grid_auto_columns": null,
      "grid_auto_flow": null,
      "grid_auto_rows": null,
      "grid_column": null,
      "grid_gap": null,
      "grid_row": null,
      "grid_template_areas": null,
      "grid_template_columns": null,
      "grid_template_rows": null,
      "height": null,
      "justify_content": null,
      "justify_items": null,
      "left": null,
      "margin": null,
      "max_height": null,
      "max_width": null,
      "min_height": null,
      "min_width": null,
      "object_fit": null,
      "object_position": null,
      "order": null,
      "overflow": null,
      "overflow_x": null,
      "overflow_y": null,
      "padding": null,
      "right": null,
      "top": null,
      "visibility": null,
      "width": null
     }
    },
    "bcbc35c5365d4c8a84e8681e2d3661f8": {
     "model_module": "@jupyter-widgets/controls",
     "model_module_version": "1.5.0",
     "model_name": "FloatProgressModel",
     "state": {
      "_dom_classes": [],
      "_model_module": "@jupyter-widgets/controls",
      "_model_module_version": "1.5.0",
      "_model_name": "FloatProgressModel",
      "_view_count": null,
      "_view_module": "@jupyter-widgets/controls",
      "_view_module_version": "1.5.0",
      "_view_name": "ProgressView",
      "bar_style": "success",
      "description": "",
      "description_tooltip": null,
      "layout": "IPY_MODEL_085c30b5b9fd406aa761a917d2f181fc",
      "max": 1488,
      "min": 0,
      "orientation": "horizontal",
      "style": "IPY_MODEL_fbe3e71dff8d4f65ac39f4200c8370f4",
      "value": 1488
     }
    },
    "be127f261515421bb5221be3f6110758": {
     "model_module": "@jupyter-widgets/controls",
     "model_module_version": "1.5.0",
     "model_name": "HTMLModel",
     "state": {
      "_dom_classes": [],
      "_model_module": "@jupyter-widgets/controls",
      "_model_module_version": "1.5.0",
      "_model_name": "HTMLModel",
      "_view_count": null,
      "_view_module": "@jupyter-widgets/controls",
      "_view_module_version": "1.5.0",
      "_view_name": "HTMLView",
      "description": "",
      "description_tooltip": null,
      "layout": "IPY_MODEL_fa84d70ee8774255b0c61f59f3628cea",
      "placeholder": "​",
      "style": "IPY_MODEL_61f4324124d14577b8ef3c06b2468706",
      "value": "Map: 100%"
     }
    },
    "ca67882cc63c404b9400a649a88956ff": {
     "model_module": "@jupyter-widgets/base",
     "model_module_version": "1.2.0",
     "model_name": "LayoutModel",
     "state": {
      "_model_module": "@jupyter-widgets/base",
      "_model_module_version": "1.2.0",
      "_model_name": "LayoutModel",
      "_view_count": null,
      "_view_module": "@jupyter-widgets/base",
      "_view_module_version": "1.2.0",
      "_view_name": "LayoutView",
      "align_content": null,
      "align_items": null,
      "align_self": null,
      "border": null,
      "bottom": null,
      "display": null,
      "flex": null,
      "flex_flow": null,
      "grid_area": null,
      "grid_auto_columns": null,
      "grid_auto_flow": null,
      "grid_auto_rows": null,
      "grid_column": null,
      "grid_gap": null,
      "grid_row": null,
      "grid_template_areas": null,
      "grid_template_columns": null,
      "grid_template_rows": null,
      "height": null,
      "justify_content": null,
      "justify_items": null,
      "left": null,
      "margin": null,
      "max_height": null,
      "max_width": null,
      "min_height": null,
      "min_width": null,
      "object_fit": null,
      "object_position": null,
      "order": null,
      "overflow": null,
      "overflow_x": null,
      "overflow_y": null,
      "padding": null,
      "right": null,
      "top": null,
      "visibility": null,
      "width": null
     }
    },
    "d7451146bb924ddd9879186491ed1cf5": {
     "model_module": "@jupyter-widgets/base",
     "model_module_version": "1.2.0",
     "model_name": "LayoutModel",
     "state": {
      "_model_module": "@jupyter-widgets/base",
      "_model_module_version": "1.2.0",
      "_model_name": "LayoutModel",
      "_view_count": null,
      "_view_module": "@jupyter-widgets/base",
      "_view_module_version": "1.2.0",
      "_view_name": "LayoutView",
      "align_content": null,
      "align_items": null,
      "align_self": null,
      "border": null,
      "bottom": null,
      "display": null,
      "flex": null,
      "flex_flow": null,
      "grid_area": null,
      "grid_auto_columns": null,
      "grid_auto_flow": null,
      "grid_auto_rows": null,
      "grid_column": null,
      "grid_gap": null,
      "grid_row": null,
      "grid_template_areas": null,
      "grid_template_columns": null,
      "grid_template_rows": null,
      "height": null,
      "justify_content": null,
      "justify_items": null,
      "left": null,
      "margin": null,
      "max_height": null,
      "max_width": null,
      "min_height": null,
      "min_width": null,
      "object_fit": null,
      "object_position": null,
      "order": null,
      "overflow": null,
      "overflow_x": null,
      "overflow_y": null,
      "padding": null,
      "right": null,
      "top": null,
      "visibility": null,
      "width": null
     }
    },
    "d8ae509c58254b65bea88e1c6274f735": {
     "model_module": "@jupyter-widgets/base",
     "model_module_version": "1.2.0",
     "model_name": "LayoutModel",
     "state": {
      "_model_module": "@jupyter-widgets/base",
      "_model_module_version": "1.2.0",
      "_model_name": "LayoutModel",
      "_view_count": null,
      "_view_module": "@jupyter-widgets/base",
      "_view_module_version": "1.2.0",
      "_view_name": "LayoutView",
      "align_content": null,
      "align_items": null,
      "align_self": null,
      "border": null,
      "bottom": null,
      "display": null,
      "flex": null,
      "flex_flow": null,
      "grid_area": null,
      "grid_auto_columns": null,
      "grid_auto_flow": null,
      "grid_auto_rows": null,
      "grid_column": null,
      "grid_gap": null,
      "grid_row": null,
      "grid_template_areas": null,
      "grid_template_columns": null,
      "grid_template_rows": null,
      "height": null,
      "justify_content": null,
      "justify_items": null,
      "left": null,
      "margin": null,
      "max_height": null,
      "max_width": null,
      "min_height": null,
      "min_width": null,
      "object_fit": null,
      "object_position": null,
      "order": null,
      "overflow": null,
      "overflow_x": null,
      "overflow_y": null,
      "padding": null,
      "right": null,
      "top": null,
      "visibility": null,
      "width": null
     }
    },
    "de9ba3dd854249fca692745ed6765cff": {
     "model_module": "@jupyter-widgets/base",
     "model_module_version": "1.2.0",
     "model_name": "LayoutModel",
     "state": {
      "_model_module": "@jupyter-widgets/base",
      "_model_module_version": "1.2.0",
      "_model_name": "LayoutModel",
      "_view_count": null,
      "_view_module": "@jupyter-widgets/base",
      "_view_module_version": "1.2.0",
      "_view_name": "LayoutView",
      "align_content": null,
      "align_items": null,
      "align_self": null,
      "border": null,
      "bottom": null,
      "display": null,
      "flex": null,
      "flex_flow": null,
      "grid_area": null,
      "grid_auto_columns": null,
      "grid_auto_flow": null,
      "grid_auto_rows": null,
      "grid_column": null,
      "grid_gap": null,
      "grid_row": null,
      "grid_template_areas": null,
      "grid_template_columns": null,
      "grid_template_rows": null,
      "height": null,
      "justify_content": null,
      "justify_items": null,
      "left": null,
      "margin": null,
      "max_height": null,
      "max_width": null,
      "min_height": null,
      "min_width": null,
      "object_fit": null,
      "object_position": null,
      "order": null,
      "overflow": null,
      "overflow_x": null,
      "overflow_y": null,
      "padding": null,
      "right": null,
      "top": null,
      "visibility": null,
      "width": null
     }
    },
    "dead159e6f0149179e017c9613b5f82d": {
     "model_module": "@jupyter-widgets/base",
     "model_module_version": "1.2.0",
     "model_name": "LayoutModel",
     "state": {
      "_model_module": "@jupyter-widgets/base",
      "_model_module_version": "1.2.0",
      "_model_name": "LayoutModel",
      "_view_count": null,
      "_view_module": "@jupyter-widgets/base",
      "_view_module_version": "1.2.0",
      "_view_name": "LayoutView",
      "align_content": null,
      "align_items": null,
      "align_self": null,
      "border": null,
      "bottom": null,
      "display": null,
      "flex": null,
      "flex_flow": null,
      "grid_area": null,
      "grid_auto_columns": null,
      "grid_auto_flow": null,
      "grid_auto_rows": null,
      "grid_column": null,
      "grid_gap": null,
      "grid_row": null,
      "grid_template_areas": null,
      "grid_template_columns": null,
      "grid_template_rows": null,
      "height": null,
      "justify_content": null,
      "justify_items": null,
      "left": null,
      "margin": null,
      "max_height": null,
      "max_width": null,
      "min_height": null,
      "min_width": null,
      "object_fit": null,
      "object_position": null,
      "order": null,
      "overflow": null,
      "overflow_x": null,
      "overflow_y": null,
      "padding": null,
      "right": null,
      "top": null,
      "visibility": null,
      "width": null
     }
    },
    "e57c34d801b24a849b90bcad6fc6183d": {
     "model_module": "@jupyter-widgets/base",
     "model_module_version": "1.2.0",
     "model_name": "LayoutModel",
     "state": {
      "_model_module": "@jupyter-widgets/base",
      "_model_module_version": "1.2.0",
      "_model_name": "LayoutModel",
      "_view_count": null,
      "_view_module": "@jupyter-widgets/base",
      "_view_module_version": "1.2.0",
      "_view_name": "LayoutView",
      "align_content": null,
      "align_items": null,
      "align_self": null,
      "border": null,
      "bottom": null,
      "display": null,
      "flex": null,
      "flex_flow": null,
      "grid_area": null,
      "grid_auto_columns": null,
      "grid_auto_flow": null,
      "grid_auto_rows": null,
      "grid_column": null,
      "grid_gap": null,
      "grid_row": null,
      "grid_template_areas": null,
      "grid_template_columns": null,
      "grid_template_rows": null,
      "height": null,
      "justify_content": null,
      "justify_items": null,
      "left": null,
      "margin": null,
      "max_height": null,
      "max_width": null,
      "min_height": null,
      "min_width": null,
      "object_fit": null,
      "object_position": null,
      "order": null,
      "overflow": null,
      "overflow_x": null,
      "overflow_y": null,
      "padding": null,
      "right": null,
      "top": null,
      "visibility": null,
      "width": null
     }
    },
    "e6a0d59fe68c48bba2bc0d99bba7730d": {
     "model_module": "@jupyter-widgets/controls",
     "model_module_version": "1.5.0",
     "model_name": "HTMLModel",
     "state": {
      "_dom_classes": [],
      "_model_module": "@jupyter-widgets/controls",
      "_model_module_version": "1.5.0",
      "_model_name": "HTMLModel",
      "_view_count": null,
      "_view_module": "@jupyter-widgets/controls",
      "_view_module_version": "1.5.0",
      "_view_name": "HTMLView",
      "description": "",
      "description_tooltip": null,
      "layout": "IPY_MODEL_ca67882cc63c404b9400a649a88956ff",
      "placeholder": "​",
      "style": "IPY_MODEL_1a85bd3fccb84617bcc72b0b3d81d47e",
      "value": " 1488/1488 [00:01&lt;00:00, 1048.65 examples/s]"
     }
    },
    "ee7648eba86a45eba0f5934432715f4a": {
     "model_module": "@jupyter-widgets/controls",
     "model_module_version": "1.5.0",
     "model_name": "HBoxModel",
     "state": {
      "_dom_classes": [],
      "_model_module": "@jupyter-widgets/controls",
      "_model_module_version": "1.5.0",
      "_model_name": "HBoxModel",
      "_view_count": null,
      "_view_module": "@jupyter-widgets/controls",
      "_view_module_version": "1.5.0",
      "_view_name": "HBoxView",
      "box_style": "",
      "children": [
       "IPY_MODEL_4686fa0c04b948969e72d5ed33b98357",
       "IPY_MODEL_bcbc35c5365d4c8a84e8681e2d3661f8",
       "IPY_MODEL_e6a0d59fe68c48bba2bc0d99bba7730d"
      ],
      "layout": "IPY_MODEL_0100b5eeb0fa4ef8ba52ae59b24ffbf0"
     }
    },
    "fa84d70ee8774255b0c61f59f3628cea": {
     "model_module": "@jupyter-widgets/base",
     "model_module_version": "1.2.0",
     "model_name": "LayoutModel",
     "state": {
      "_model_module": "@jupyter-widgets/base",
      "_model_module_version": "1.2.0",
      "_model_name": "LayoutModel",
      "_view_count": null,
      "_view_module": "@jupyter-widgets/base",
      "_view_module_version": "1.2.0",
      "_view_name": "LayoutView",
      "align_content": null,
      "align_items": null,
      "align_self": null,
      "border": null,
      "bottom": null,
      "display": null,
      "flex": null,
      "flex_flow": null,
      "grid_area": null,
      "grid_auto_columns": null,
      "grid_auto_flow": null,
      "grid_auto_rows": null,
      "grid_column": null,
      "grid_gap": null,
      "grid_row": null,
      "grid_template_areas": null,
      "grid_template_columns": null,
      "grid_template_rows": null,
      "height": null,
      "justify_content": null,
      "justify_items": null,
      "left": null,
      "margin": null,
      "max_height": null,
      "max_width": null,
      "min_height": null,
      "min_width": null,
      "object_fit": null,
      "object_position": null,
      "order": null,
      "overflow": null,
      "overflow_x": null,
      "overflow_y": null,
      "padding": null,
      "right": null,
      "top": null,
      "visibility": null,
      "width": null
     }
    },
    "fbe3e71dff8d4f65ac39f4200c8370f4": {
     "model_module": "@jupyter-widgets/controls",
     "model_module_version": "1.5.0",
     "model_name": "ProgressStyleModel",
     "state": {
      "_model_module": "@jupyter-widgets/controls",
      "_model_module_version": "1.5.0",
      "_model_name": "ProgressStyleModel",
      "_view_count": null,
      "_view_module": "@jupyter-widgets/base",
      "_view_module_version": "1.2.0",
      "_view_name": "StyleView",
      "bar_color": null,
      "description_width": ""
     }
    }
   }
  }
 },
 "nbformat": 4,
 "nbformat_minor": 0
}
